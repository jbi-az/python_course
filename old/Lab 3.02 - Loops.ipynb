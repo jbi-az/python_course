{
 "cells": [
  {
   "cell_type": "markdown",
   "id": "87597484",
   "metadata": {},
   "source": [
    "# Lab 3.02 - Loops\n",
    "\n",
    "Hello again! Here we will explore the basic concept of loops.\n",
    "\n",
    "We will examine:\n",
    "\n",
    "1. For Loops\n",
    "2. While Loops\n",
    "3. Loops with Control Flow\n",
    "\n",
    "Happy Coding and good luck!"
   ]
  },
  {
   "cell_type": "markdown",
   "id": "c8846407",
   "metadata": {},
   "source": [
    "## The \"range()\" function\n",
    "\n",
    "The range function is often used with for loops to create an iterable range of numbers. Learn how it works below"
   ]
  },
  {
   "cell_type": "code",
   "execution_count": null,
   "id": "bc7df6d2",
   "metadata": {},
   "outputs": [],
   "source": [
    "# Make a variable and assign to it the range 1-11\n"
   ]
  },
  {
   "cell_type": "code",
   "execution_count": null,
   "id": "100eef55",
   "metadata": {},
   "outputs": [],
   "source": [
    "# Check the type of your variable\n"
   ]
  },
  {
   "cell_type": "code",
   "execution_count": null,
   "id": "2873e190",
   "metadata": {},
   "outputs": [],
   "source": [
    "# Try printing your variable\n"
   ]
  },
  {
   "cell_type": "markdown",
   "id": "35b19647",
   "metadata": {},
   "source": [
    "The print looks a bit odd, doesn't it? It tells you what it is without really showing you what's inside.\n",
    "If you want to see the range in more readable form, you can cast it as a list or tuple"
   ]
  },
  {
   "cell_type": "code",
   "execution_count": null,
   "id": "5dbfb781",
   "metadata": {},
   "outputs": [],
   "source": [
    "# Make a new variable and assign to it a range from 10-21, cast as a list\n"
   ]
  },
  {
   "cell_type": "code",
   "execution_count": null,
   "id": "7a0b9203",
   "metadata": {},
   "outputs": [],
   "source": [
    "# Print your new variable\n"
   ]
  },
  {
   "cell_type": "markdown",
   "id": "4df06b50",
   "metadata": {},
   "source": [
    "## For Loops\n",
    "\n",
    "For Loops are used with SEQUENCES, such as strings, lists, ranges, or any iterable object\n",
    "\n",
    "For Loops will look at every object in a specified sequence in order, meaning they have a beginning and end and cannot be infinite loops. This is useful when we know exactly how many iterations we want our loop to perform.\n",
    "\n",
    "For example:\n",
    "\n",
    "if we have a list object:\n",
    "\n",
    "a = [1,2,3,4,5]\n",
    "\n",
    "and we want to loop through every object, we would say:\n",
    "\n",
    "    for object in a:\n",
    "        do this...\n",
    "\n",
    "In plain english, this would sound something like, \"For every object in the list 'a', do this:\n",
    "\n",
    "Here the word \"object\" is a variable and can actually be named anything you want."
   ]
  },
  {
   "cell_type": "code",
   "execution_count": null,
   "id": "a04ef9dc",
   "metadata": {},
   "outputs": [],
   "source": [
    "# Use a For Loop to print every letter of the 'a' variable\n",
    "a = \"Jello\"\n",
    "\n"
   ]
  },
  {
   "cell_type": "code",
   "execution_count": null,
   "id": "59a6834a",
   "metadata": {
    "scrolled": true
   },
   "outputs": [],
   "source": [
    "# Use a For Loop to print \"counting\" 5 times (Use the 'range()' function)\n"
   ]
  },
  {
   "cell_type": "code",
   "execution_count": null,
   "id": "9d7b412d",
   "metadata": {},
   "outputs": [],
   "source": [
    "# Use a for loop to print all the words in this list that start with an uppercase letter\n",
    "mixed = [\"This\", \"list\", \"Is\", \"full\", \"of\", \"Mixed\", \"Words\"]\n"
   ]
  },
  {
   "cell_type": "code",
   "execution_count": null,
   "id": "f76db73d",
   "metadata": {},
   "outputs": [],
   "source": [
    "# Run this code:\n",
    "nums = [1,2,3,4,5,6,7,8,9,10]"
   ]
  },
  {
   "cell_type": "code",
   "execution_count": null,
   "id": "0f667d7b",
   "metadata": {},
   "outputs": [],
   "source": [
    "# Make a for loop that will add all the numbers in the list above to the variable below\n",
    "total = 0\n",
    "\n",
    "\n",
    "# Print the total"
   ]
  },
  {
   "cell_type": "markdown",
   "id": "646ee0ed",
   "metadata": {},
   "source": [
    "## While Loops\n",
    "\n",
    "While Loops are used when the number of needed iterations is not known.\n",
    "\n",
    "The logic works as follows:\n",
    "\n",
    "    While (boolean statement) is \"True\":\n",
    "    \n",
    "        Do this...\n",
    "    \n",
    "Watch out... if the boolean always evaluates to True, the loop will go on forever. This is called an \"infinite loop\". You need to watch your conditions carefully and have some way to break out of the loop.\n",
    "\n",
    "Let's explore..."
   ]
  },
  {
   "cell_type": "code",
   "execution_count": null,
   "id": "91e92192",
   "metadata": {},
   "outputs": [],
   "source": [
    "# Create a variable that contains an empty string (\"\")\n"
   ]
  },
  {
   "cell_type": "code",
   "execution_count": null,
   "id": "a8cb0cec",
   "metadata": {},
   "outputs": [],
   "source": [
    "# Create a While Loop that will continue adding any letter you choose to the string until the length of the string is 10\n",
    "# After the while loop has finished running, print your variable\n"
   ]
  },
  {
   "cell_type": "code",
   "execution_count": null,
   "id": "68db56fc",
   "metadata": {},
   "outputs": [],
   "source": [
    "# Create a variable and assign to it an integer value of 0\n"
   ]
  },
  {
   "cell_type": "code",
   "execution_count": null,
   "id": "157968a1",
   "metadata": {},
   "outputs": [],
   "source": [
    "# Make a while loop that will print \"My number is still less than 10\" while the value of the number is less than 10.\n",
    "# Increase the value of the number in your variable by 1 after each print\n"
   ]
  },
  {
   "cell_type": "code",
   "execution_count": null,
   "id": "d241a85d",
   "metadata": {},
   "outputs": [],
   "source": [
    "# Copy the above loop, but add an \"else\" statement to the end that will print \"FINISHED!\" once the loop is done (once the number reaches 10)\n"
   ]
  },
  {
   "cell_type": "markdown",
   "id": "dfba4123",
   "metadata": {},
   "source": [
    "## Nested Loops\n",
    "\n",
    "A nested loop is just like a nested \"if\" statement... It's a loop INSIDE of a loop!"
   ]
  },
  {
   "cell_type": "code",
   "execution_count": null,
   "id": "d55ed81c",
   "metadata": {},
   "outputs": [],
   "source": [
    "# Run this code\n",
    "find = [\"This\", 2, \"list\", \"is\", 4, \"made\", 8, \"of\", 16, \"numbers\", 32, \"and\", 64, \"strings\", \"and\", 128, \"we\", \"need\", \"to\", 256, \"filter\", \"them\"]"
   ]
  },
  {
   "cell_type": "code",
   "execution_count": null,
   "id": "76eb8b02",
   "metadata": {},
   "outputs": [],
   "source": [
    "# You'll need a For Loop AND a While Loop to solve this puzzle:\n",
    "# Use a While Loop to keep the program running until the length the 'nums' variable below is 16\n",
    "# Inside the while loop, use a For Loop to run through the 'find' list and append all the integers to the nums list\n",
    "nums = []\n",
    "\n",
    "# Your code here:\n"
   ]
  },
  {
   "cell_type": "code",
   "execution_count": null,
   "id": "176ace4e",
   "metadata": {},
   "outputs": [],
   "source": [
    "# Check the length of nums\n"
   ]
  },
  {
   "cell_type": "code",
   "execution_count": null,
   "id": "ea635ec0",
   "metadata": {},
   "outputs": [],
   "source": [
    "# Print nums\n"
   ]
  },
  {
   "cell_type": "markdown",
   "id": "da4a97c0",
   "metadata": {},
   "source": [
    "## Coding Challenge"
   ]
  },
  {
   "cell_type": "code",
   "execution_count": null,
   "id": "d93cee34",
   "metadata": {},
   "outputs": [],
   "source": [
    "# Run this code\n",
    "lst = [\"there\", 1, \"are\", 2, \"many\", 3, \"words\", 4, \"and\", 5, \"numbers\", 6, \"to\", 7, \"sort\", 8, \"through\", 9, \"in\", 10, \"this\", 11, \"list\", 12, \"so\", 13, \"we\", 14, \"need\", 15, \"to\", 16, \"write\", 17, \"a\", 18, \"carefully\", 19, \"planned\", 20, \"code\"]\n",
    "odd_values = 0"
   ]
  },
  {
   "cell_type": "markdown",
   "id": "ae5550cf",
   "metadata": {},
   "source": [
    "Write a code that will run through the list and do the following:\n",
    "\n",
    "    1. If the object is a string:\n",
    "    \n",
    "        a. Print all words with an even number of letters\n",
    "        \n",
    "    2. If the object is an integer: \n",
    "    \n",
    "        a. Print the even numbers\n",
    "        b. Add all the odd numbers to the \"odd_values\" variable"
   ]
  },
  {
   "cell_type": "code",
   "execution_count": null,
   "id": "1ca41830",
   "metadata": {},
   "outputs": [],
   "source": [
    "# Write your code here\n"
   ]
  },
  {
   "cell_type": "code",
   "execution_count": null,
   "id": "cad3ed67",
   "metadata": {},
   "outputs": [],
   "source": [
    "# print your 'odd_values' variable for proof of success. It should equal 100\n"
   ]
  }
 ],
 "metadata": {
  "kernelspec": {
   "display_name": "Python 3 (ipykernel)",
   "language": "python",
   "name": "python3"
  },
  "language_info": {
   "codemirror_mode": {
    "name": "ipython",
    "version": 3
   },
   "file_extension": ".py",
   "mimetype": "text/x-python",
   "name": "python",
   "nbconvert_exporter": "python",
   "pygments_lexer": "ipython3",
   "version": "3.9.12"
  }
 },
 "nbformat": 4,
 "nbformat_minor": 5
}
