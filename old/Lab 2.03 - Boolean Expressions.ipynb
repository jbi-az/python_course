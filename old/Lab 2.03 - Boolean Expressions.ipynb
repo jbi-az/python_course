{
 "cells": [
  {
   "cell_type": "code",
   "execution_count": null,
   "id": "1378e263",
   "metadata": {},
   "outputs": [],
   "source": [
    "# Print your name here:\n",
    "print(\"\")"
   ]
  },
  {
   "cell_type": "markdown",
   "id": "60a9fad1",
   "metadata": {},
   "source": [
    "# Boolean Expressions\n",
    "Today we will learn the logic of creating boolean expressions.\n",
    "\n",
    "This is an easy, code-along exercise for you to do with your teacher.\n",
    "\n",
    "Learning to work with Boolean Expressions is the first step towards learning to **control the flow and logic** of your code.\n",
    "\n",
    "**Today we will practice:**\n",
    "1. Declaring a Boolean\n",
    "2. Boolean Operator logic\n",
    "3. Using Booleans on numbers and strings"
   ]
  },
  {
   "cell_type": "markdown",
   "id": "e7387f8d",
   "metadata": {},
   "source": [
    "### Boolean variables\n",
    "It's very easy to create a boolean. You can simply assign a value to a variable as shown below:"
   ]
  },
  {
   "cell_type": "code",
   "execution_count": null,
   "id": "ed72b9c1",
   "metadata": {},
   "outputs": [],
   "source": [
    "bool_1 = True\n",
    "bool_2 = False"
   ]
  },
  {
   "cell_type": "code",
   "execution_count": null,
   "id": "9e8e6b4a",
   "metadata": {},
   "outputs": [],
   "source": [
    "# Try it yourself. Make 2 variables, each with a different boolean value\n"
   ]
  },
  {
   "cell_type": "code",
   "execution_count": null,
   "id": "67261eea",
   "metadata": {},
   "outputs": [],
   "source": [
    "# Call your first variable and check the output\n"
   ]
  },
  {
   "cell_type": "code",
   "execution_count": null,
   "id": "a58d2a91",
   "metadata": {},
   "outputs": [],
   "source": [
    "# Call your second variable and check the output\n"
   ]
  },
  {
   "cell_type": "markdown",
   "id": "4927f2e3",
   "metadata": {},
   "source": [
    "## Boolean Operators\n",
    "Remember the Boolean operators? There are a few types - the first is \"Comparison\" (also known as \"Relational\")\n",
    "\n",
    "These operators allow us to compare variables/values and output a Boolean result.\n",
    "\n",
    "## Comparison Operators\n",
    "Here is a table of the Comparison operators with some examples:\n",
    "\n",
    "<h2> Table of Comparison Operators </h2>\n",
    "\n",
    "<p>  In the table below: </p>\n",
    "    \n",
    "    a = 3\n",
    "    b = 4\n",
    "\n",
    "<table class=\"table table-bordered\">\n",
    "<tr>\n",
    "<th style=\"width:10%\">Operator</th><th style=\"width:45%\">Description</th><th>Example</th>\n",
    "</tr>\n",
    "<tr>\n",
    "<td>==</td>\n",
    "<td>If the values of two operands are equal, then the condition becomes true.</td>\n",
    "<td> (a == b) is False.</td>\n",
    "</tr>\n",
    "<tr>\n",
    "<td>!=</td>\n",
    "<td>If values of two operands are not equal, then condition becomes true.</td>\n",
    "<td>(a != b) is True</td>\n",
    "</tr>\n",
    "<tr>\n",
    "<td>&gt;</td>\n",
    "<td>If the value of left operand is greater than the value of right operand, then condition becomes true.</td>\n",
    "<td> (a &gt; b) is False.</td>\n",
    "</tr>\n",
    "<tr>\n",
    "<td>&lt;</td>\n",
    "<td>If the value of left operand is less than the value of right operand, then condition becomes true.</td>\n",
    "<td> (a &lt; b) is True.</td>\n",
    "</tr>\n",
    "<tr>\n",
    "<td>&gt;=</td>\n",
    "<td>If the value of left operand is greater than or equal to the value of right operand, then condition becomes true.</td>\n",
    "<td> (a &gt;= b) is False. </td>\n",
    "</tr>\n",
    "<tr>\n",
    "<td>&lt;=</td>\n",
    "<td>If the value of left operand is less than or equal to the value of right operand, then condition becomes true.</td>\n",
    "<td> (a &lt;= b) is True. </td>\n",
    "</tr>\n",
    "</table>\n",
    "\n",
    "**Lets try it!**"
   ]
  },
  {
   "cell_type": "markdown",
   "id": "e3c9d608",
   "metadata": {},
   "source": [
    "### Equality\n",
    "\n",
    "#### Numbers"
   ]
  },
  {
   "cell_type": "code",
   "execution_count": null,
   "id": "1c9bfa4f",
   "metadata": {},
   "outputs": [],
   "source": [
    "# Lets start simple- ask if 2 numbers are equal (remember to use double equal sign \"==\")\n"
   ]
  },
  {
   "cell_type": "code",
   "execution_count": null,
   "id": "3a37607a",
   "metadata": {},
   "outputs": [],
   "source": [
    "# In this expression, we are asking \"is the sum of 3+3 equal to the sum of 2 + 4\". Run this cell\n",
    "(3 + 3) == (2 + 4)"
   ]
  },
  {
   "cell_type": "code",
   "execution_count": null,
   "id": "95c6c5d3",
   "metadata": {},
   "outputs": [],
   "source": [
    "# Copy the above code and change the operator to \"not equal\"\n"
   ]
  },
  {
   "cell_type": "code",
   "execution_count": null,
   "id": "baa51afd",
   "metadata": {
    "scrolled": true
   },
   "outputs": [],
   "source": [
    "# Here, we are asking if the quotient of 10 / 2 is equal to the sum of 3 + 5. Run this cell\n",
    "(10 / 2) == (3 + 5)"
   ]
  },
  {
   "cell_type": "code",
   "execution_count": null,
   "id": "082cb219",
   "metadata": {},
   "outputs": [],
   "source": [
    "# Make an expression that checks if 7 / 2 is equal to 7 // 2\n"
   ]
  },
  {
   "cell_type": "markdown",
   "id": "6574b4ab",
   "metadata": {},
   "source": [
    "#### Strings"
   ]
  },
  {
   "cell_type": "code",
   "execution_count": null,
   "id": "ddacf550",
   "metadata": {},
   "outputs": [],
   "source": [
    "# We can use this on strings as well. First, run this code to save the value below\n",
    "a = \"Needle\""
   ]
  },
  {
   "cell_type": "code",
   "execution_count": null,
   "id": "da18b0db",
   "metadata": {},
   "outputs": [],
   "source": [
    "# Now, ask python if the variable 'a' is equal to the string 'Needle'\n"
   ]
  },
  {
   "cell_type": "code",
   "execution_count": null,
   "id": "dd36be60",
   "metadata": {},
   "outputs": [],
   "source": [
    "# Ask if the letter in the third index position (2) is the same as the letter in index position -1 (use indexing)\n"
   ]
  },
  {
   "cell_type": "code",
   "execution_count": null,
   "id": "6ff010e4",
   "metadata": {},
   "outputs": [],
   "source": [
    "# Now ask if the first letter (index 0) is the same as the 6th (index 5)\n"
   ]
  },
  {
   "cell_type": "code",
   "execution_count": null,
   "id": "45a14510",
   "metadata": {},
   "outputs": [],
   "source": [
    "# Save this variable\n",
    "b = \"Race fast safe car\""
   ]
  },
  {
   "cell_type": "code",
   "execution_count": null,
   "id": "560315b0",
   "metadata": {},
   "outputs": [],
   "source": [
    "# Ask if the first and last letters of the variable \"b\" are the same\n"
   ]
  },
  {
   "cell_type": "markdown",
   "id": "feda8e95",
   "metadata": {},
   "source": [
    "In the above example, both letters are \"r\" but we still received a \"False\" output. That's because python operators are **CASE-SENSETIVE** when comparing strings"
   ]
  },
  {
   "cell_type": "markdown",
   "id": "ae456cee",
   "metadata": {},
   "source": [
    "### Greater/Less than"
   ]
  },
  {
   "cell_type": "code",
   "execution_count": null,
   "id": "3337d314",
   "metadata": {},
   "outputs": [],
   "source": [
    "# Ask if 5 is greater than 3?\n"
   ]
  },
  {
   "cell_type": "code",
   "execution_count": null,
   "id": "4882f3dd",
   "metadata": {
    "scrolled": true
   },
   "outputs": [],
   "source": [
    "# What will be the output of this expression?\n",
    "# ((10 * 2) - (2 + 3)) < ((12 // 3) * (10 - 2))\n",
    "# Write your answer here: \n",
    "# "
   ]
  },
  {
   "cell_type": "code",
   "execution_count": null,
   "id": "59df218a",
   "metadata": {},
   "outputs": [],
   "source": [
    "# Here, we are asking if the first number is the same as or greater than the second number\n",
    "5 >= 4"
   ]
  },
  {
   "cell_type": "code",
   "execution_count": null,
   "id": "af488eff",
   "metadata": {},
   "outputs": [],
   "source": [
    "# How would we ask if the first number is LESS THAN or EQUAL TO the second number?\n"
   ]
  },
  {
   "cell_type": "markdown",
   "id": "a8dd5e4a",
   "metadata": {},
   "source": [
    "## Logical Operators\n",
    "The second kind of Boolean operator is \"Logical\"\n",
    "\n",
    "Logical Operators allow us to combine expressions together.\n",
    "\n",
    "<h2> Table of Logical Operators </h2><p> and/or/not operators </p>\n",
    "\n",
    "<table class=\"table table-bordered\">\n",
    "<tr>\n",
    "<th style=\"width:10%\">Operator</th><th style=\"width:45%\">Description</th><th>Example A</th><th>Example B</th>\n",
    "</tr>\n",
    "<tr>\n",
    "<td>and</td>\n",
    "<td>Checks 2 or more conditions. If ALL are True, the whole statement is True. If even ONE is False, the whole statement is False</td>\n",
    "<td> (3 == 3) and (5 != 6) is True.</td>\n",
    "<td> (2 == 4) and (5 != 6) is False.</td>\n",
    "</tr>\n",
    "<tr>\n",
    "<td>or</td>\n",
    "<td>Checks 2 or more values. Only ONE must be True for the whole statement to be True. If ALL statements are False, the whole statement is False</td>\n",
    "<td>(1 == 1) or (2 > 3) is True</td>\n",
    "<td>(1 == 2) or (1 > 2) is False</td>\n",
    "</tr>\n",
    "<tr>\n",
    "<td>not</td>\n",
    "<td>Reverses the output of a True/False statement.</td>\n",
    "<td> not(1 == 2) is True.</td>\n",
    "<td> not(1 == 1) is False.</td>\n",
    "</tr>\n",
    "</table>"
   ]
  },
  {
   "cell_type": "markdown",
   "id": "14a746cc",
   "metadata": {},
   "source": [
    "#### AND statements"
   ]
  },
  {
   "cell_type": "code",
   "execution_count": null,
   "id": "2113fa5f",
   "metadata": {},
   "outputs": [],
   "source": [
    "# if we use the \"and\" operator, both statement 1 AND statement 2 must evaluate to \"True\" for us to receive a \"True\" output\n",
    "5 == 5 and 6 > 2"
   ]
  },
  {
   "cell_type": "code",
   "execution_count": null,
   "id": "2392e291",
   "metadata": {},
   "outputs": [],
   "source": [
    "# Will this statement be True or False?\n",
    "# (5 + 3) == (4 * 2) and (3 * 4) != (6 * 2)\n",
    "# Answer here:\n",
    "# "
   ]
  },
  {
   "cell_type": "markdown",
   "id": "207a7714",
   "metadata": {},
   "source": [
    "#### OR statements"
   ]
  },
  {
   "cell_type": "code",
   "execution_count": null,
   "id": "accaa526",
   "metadata": {},
   "outputs": [],
   "source": [
    "# Using the \"or\" operator requires ONLY ONE statement to be True in order to return a \"True\" value.\n",
    "# Run this code and check the output.\n",
    "4 > 3 or 4 > 7"
   ]
  },
  {
   "cell_type": "code",
   "execution_count": null,
   "id": "fd8db83c",
   "metadata": {},
   "outputs": [],
   "source": [
    "# Try to guess the output of this statement\n",
    "# (4 // 2) <= (1 + 1) or (7 * 5) == (4 * 8)\n",
    "# Answer here\n",
    "# "
   ]
  },
  {
   "cell_type": "markdown",
   "id": "8789f228",
   "metadata": {},
   "source": [
    "#### NOT Statements"
   ]
  },
  {
   "cell_type": "code",
   "execution_count": null,
   "id": "86d220db",
   "metadata": {},
   "outputs": [],
   "source": [
    "# This statement is True\n",
    "5 + 2 == 7"
   ]
  },
  {
   "cell_type": "code",
   "execution_count": null,
   "id": "4fa9233e",
   "metadata": {},
   "outputs": [],
   "source": [
    "# So this will reverse the value\n",
    "not(5 + 2 == 7)"
   ]
  },
  {
   "cell_type": "code",
   "execution_count": null,
   "id": "750a44be",
   "metadata": {},
   "outputs": [],
   "source": [
    "# Make a boolean statement here - however you prefer\n"
   ]
  },
  {
   "cell_type": "code",
   "execution_count": null,
   "id": "7d882d9a",
   "metadata": {},
   "outputs": [],
   "source": [
    "# Make the same boolean statement, but reverse the outcome using \"not\"\n"
   ]
  },
  {
   "cell_type": "markdown",
   "id": "39aab098",
   "metadata": {},
   "source": [
    "## Membership Operators\n",
    "The membership operators checks an object to see if a sequence exists in it (or not). For this to work, the object must be an iterable sequence, such as a string or a list (more about lists later)\n",
    "\n",
    "<h2> Table of Membership Operators </h2><p> in/not in </p>\n",
    "\n",
    "<table class=\"table table-bordered\">\n",
    "<tr>\n",
    "<th style=\"width:10%\">Operator</th><th style=\"width:45%\">Description</th><th>Example A</th><th>Example B</th>\n",
    "</tr>\n",
    "<tr>\n",
    "<td>in</td>\n",
    "<td>Checks for an object or sequence within another sequence.</td>\n",
    "<td>\"Py\" in \"Python\" is True.</td>\n",
    "<td>\"Z\" in \"Python\" is False.</td>\n",
    "</tr>\n",
    "<tr>\n",
    "<td>not in</td>\n",
    "<td>Returns the opposite result. Checks if an object or sequence is NOT found in another sequence</td>\n",
    "<td>\"Py\" not in \"Python\" is False</td>\n",
    "<td>\"Z\" not in \"Python\" is False.</td>\n",
    "</tr>\n",
    "</table>"
   ]
  },
  {
   "cell_type": "code",
   "execution_count": null,
   "id": "f00fe395",
   "metadata": {},
   "outputs": [],
   "source": [
    "# Here, we take another quote from our favorite show and check if the word \"Death\" is contained in it\n",
    "text = \"What do we say to the God of Death?\"\n",
    "\n"
   ]
  },
  {
   "cell_type": "code",
   "execution_count": null,
   "id": "f34a15ca",
   "metadata": {},
   "outputs": [],
   "source": [
    "# Note that the check is case-sensetive. Write the above statement with a lowercase \"d\"\n"
   ]
  },
  {
   "cell_type": "code",
   "execution_count": null,
   "id": "0b71d8fe",
   "metadata": {},
   "outputs": [],
   "source": [
    "# How would you make the previous statement return the OPPOSITE value?\n"
   ]
  },
  {
   "cell_type": "markdown",
   "id": "f22bec99",
   "metadata": {},
   "source": [
    "## Identity Operators\n",
    "The \"is\" operator asks if 2 objects are the same.\n",
    "\n",
    "<h2> Table of Identity Operators </h2><p> Identity operators are used to compare the objects, not if they are equal, but if they are actually the same object, with the same address in the RAM: </p>\n",
    "\n",
    "In the table below:\n",
    "    \n",
    "    1. a = 5\n",
    "    2. b = a\n",
    "\n",
    "<table class=\"table table-bordered\">\n",
    "<tr>\n",
    "<th style=\"width:10%\">Operator</th><th style=\"width:45%\">Description</th><th>Example</th>\n",
    "</tr>\n",
    "<tr>\n",
    "<td>is</td>\n",
    "<td>Returns True if both variables are the same object</td>\n",
    "<td>(a is b) is True.</td>\n",
    "</tr>\n",
    "<tr>\n",
    "<td>is not</td>\n",
    "<td>Returns true if both variables are NOT the same object</td>\n",
    "<td>(a is not b) is False</td>\n",
    "</tr>\n",
    "</table>"
   ]
  },
  {
   "cell_type": "code",
   "execution_count": null,
   "id": "290a6b83",
   "metadata": {},
   "outputs": [],
   "source": [
    "x = \"My String\"\n",
    "y = \"My String\"\n",
    "z = x"
   ]
  },
  {
   "cell_type": "code",
   "execution_count": null,
   "id": "987365cf",
   "metadata": {},
   "outputs": [],
   "source": [
    "# This returns false because even though both variables contain the same string value, they are not explicitly the same object\n",
    "x is y"
   ]
  },
  {
   "cell_type": "code",
   "execution_count": null,
   "id": "e5ed9c49",
   "metadata": {},
   "outputs": [],
   "source": [
    "# Since we assigned z to be x, this returns True\n",
    "z is x"
   ]
  },
  {
   "cell_type": "code",
   "execution_count": null,
   "id": "ed1809f8",
   "metadata": {},
   "outputs": [],
   "source": [
    "# The exception is integers between -5 and 256, each of which is a single object.\n",
    "x = 3 * 5\n",
    "y = 10 + 5\n",
    "z = x"
   ]
  },
  {
   "cell_type": "code",
   "execution_count": null,
   "id": "6349ecbe",
   "metadata": {},
   "outputs": [],
   "source": [
    "x is y"
   ]
  },
  {
   "cell_type": "code",
   "execution_count": null,
   "id": "75e624a5",
   "metadata": {},
   "outputs": [],
   "source": [
    "# won't work with integers outside of the -5 to 256 range\n",
    "a_1 = 257\n",
    "b_1 = 257\n",
    "a_2 = -6\n",
    "b_2 = -6"
   ]
  },
  {
   "cell_type": "code",
   "execution_count": null,
   "id": "b1b2f9e0",
   "metadata": {},
   "outputs": [],
   "source": [
    "a_1 is b_1"
   ]
  },
  {
   "cell_type": "code",
   "execution_count": null,
   "id": "783b3dba",
   "metadata": {},
   "outputs": [],
   "source": [
    "a_2 is b_2"
   ]
  },
  {
   "cell_type": "code",
   "execution_count": null,
   "id": "72f6d5d3",
   "metadata": {},
   "outputs": [],
   "source": [
    "# Look at these variables:\n",
    "num_1 = 256\n",
    "num_2 = 128\n",
    "num_3 = num_1 + num_2\n",
    "num_4 = num_3"
   ]
  },
  {
   "cell_type": "code",
   "execution_count": null,
   "id": "99d4d90a",
   "metadata": {},
   "outputs": [],
   "source": [
    "# Will this statement be True or False? Answer as a comment without running the code:\n",
    "num_3 is not num_1\n",
    "# Answer here:\n",
    "# "
   ]
  },
  {
   "cell_type": "code",
   "execution_count": null,
   "id": "5dac27d2",
   "metadata": {},
   "outputs": [],
   "source": [
    "# Will this statement be True or False? Answer as a comment without running the code:\n",
    "num_4 is num_2\n",
    "# Answer here:\n",
    "# "
   ]
  },
  {
   "cell_type": "code",
   "execution_count": null,
   "id": "db86d789",
   "metadata": {},
   "outputs": [],
   "source": [
    "# Will this statement be True or False? Answer as a comment without running the code:\n",
    "num_1 is not num_2\n",
    "# Answer here:\n",
    "# "
   ]
  },
  {
   "cell_type": "code",
   "execution_count": null,
   "id": "c6a3c72c",
   "metadata": {},
   "outputs": [],
   "source": [
    "# Will this statement be True or False? Answer as a comment without running the code:\n",
    "num_3 is not num_4\n",
    "# Answer here:\n",
    "# "
   ]
  },
  {
   "cell_type": "code",
   "execution_count": null,
   "id": "33677532",
   "metadata": {},
   "outputs": [],
   "source": [
    "# Will this statement be True or False? Answer as a comment without running the code:\n",
    "num_3 is num_4\n",
    "# Answer here:\n",
    "# "
   ]
  },
  {
   "cell_type": "markdown",
   "id": "236a994b",
   "metadata": {},
   "source": [
    "# Easy, right?\n",
    "### Mastering Boolean logic is essential to being an effective coder."
   ]
  }
 ],
 "metadata": {
  "kernelspec": {
   "display_name": "Python 3 (ipykernel)",
   "language": "python",
   "name": "python3"
  },
  "language_info": {
   "codemirror_mode": {
    "name": "ipython",
    "version": 3
   },
   "file_extension": ".py",
   "mimetype": "text/x-python",
   "name": "python",
   "nbconvert_exporter": "python",
   "pygments_lexer": "ipython3",
   "version": "3.9.12"
  }
 },
 "nbformat": 4,
 "nbformat_minor": 5
}
