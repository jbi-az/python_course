{
 "cells": [
  {
   "cell_type": "code",
   "execution_count": null,
   "id": "0b695f43",
   "metadata": {},
   "outputs": [],
   "source": [
    "# Print your name here:\n"
   ]
  },
  {
   "cell_type": "markdown",
   "id": "a2979cf5",
   "metadata": {},
   "source": [
    "# Lists & Tuples\n",
    "\n",
    "Welcome back! In this workbook, we will explore the concepts of Lists and Tuples and their basic functionality.\n",
    "\n",
    "Both Lists and Tuples - much like strings - are sequences, but instead of sequences of characters only, they are sequences of data. Their functionality is similar to strings in that they can be indexed and sliced. The major difference between them is that Lists are mutable (changeable) while Tuples are not.\n",
    "\n",
    "In this lesson we will learn the following about Lists & Tuples:\n",
    "\n",
    "1. How to create them\n",
    "2. Indexing and Slicing\n",
    "3. Basic Methods\n",
    "4. Tuple Immutability\n",
    "5. Nested Lists\n",
    "\n",
    "Ready? Great! Let's go..."
   ]
  },
  {
   "cell_type": "markdown",
   "id": "b21d6811",
   "metadata": {},
   "source": [
    "# Lists\n",
    "Lists are simply sequences of our data. The data contained in lists can be anything- integer, float, string, boolean... even other lists! \n",
    "\n",
    "Lists are created using simple square brackets as follows:\n",
    "\n",
    "my_list = [ ]\n",
    "\n",
    "You can add data to your list, separating the indexes with a comma, like this:\n",
    "\n",
    "my_list = [1, 2, 3, \"a string\", 5, 6, True]\n",
    "\n",
    "Let's try it!"
   ]
  },
  {
   "cell_type": "code",
   "execution_count": null,
   "id": "75ffbbaf",
   "metadata": {},
   "outputs": [],
   "source": [
    "# Create your first list with at least 5 items (add any types of data you wish) and save it to a variable called \"my_list\"\n"
   ]
  },
  {
   "cell_type": "markdown",
   "id": "ee447b22",
   "metadata": {},
   "source": [
    "Just like strings, you can see how many indexes your list contains using the \"len()\" function"
   ]
  },
  {
   "cell_type": "code",
   "execution_count": null,
   "id": "daeb4d8a",
   "metadata": {},
   "outputs": [],
   "source": [
    "# Check the length of your list\n"
   ]
  },
  {
   "cell_type": "markdown",
   "id": "b1c32ec5",
   "metadata": {},
   "source": [
    "## Indexing\n",
    "Just like with strings, you can index your list to retrieve individual objects.\n",
    "\n",
    "The syntax is identical:\n",
    "\n",
    "my_list[index_number]\n",
    "\n",
    "Remember, indexes start at the number 0"
   ]
  },
  {
   "cell_type": "code",
   "execution_count": null,
   "id": "6704a6fe",
   "metadata": {},
   "outputs": [],
   "source": [
    "# Retrieve the 1st item of your list using indexing\n"
   ]
  },
  {
   "cell_type": "code",
   "execution_count": null,
   "id": "a01357e7",
   "metadata": {},
   "outputs": [],
   "source": [
    "# Retrieve the last item of your list (use the reverse index)\n"
   ]
  },
  {
   "cell_type": "markdown",
   "id": "9efd5282",
   "metadata": {},
   "source": [
    "You can index strings from inside your lists. Simply add another index box.\n",
    "\n",
    "my_list = [\"hahahaha\",\"blah blah blah\",\"Hooray!\",\"Yolo!\",\"La laaa la la la\"]\n",
    "\n",
    "mylist[0][-1]\n",
    "\n",
    "This will grab the last letter of the first string inside your list, returning \"a\""
   ]
  },
  {
   "cell_type": "code",
   "execution_count": null,
   "id": "86e5d278",
   "metadata": {},
   "outputs": [],
   "source": [
    "# Create a list of string values and grab the second index's 3rd character\n"
   ]
  },
  {
   "cell_type": "code",
   "execution_count": null,
   "id": "537929c6",
   "metadata": {},
   "outputs": [],
   "source": [
    "# Check the type of your lists 3rd index using \"type()\"\n"
   ]
  },
  {
   "cell_type": "markdown",
   "id": "74848d7f",
   "metadata": {},
   "source": [
    "## Slicing\n",
    "Slicing lists is essentially the same as slicing strings"
   ]
  },
  {
   "cell_type": "code",
   "execution_count": null,
   "id": "5c43015e",
   "metadata": {},
   "outputs": [],
   "source": [
    "# Here is a pre-made list. Run the cell to save it\n",
    "my_list = [1,2,3,\"four\",\"five\",\"six\", 7.0, 8.0]"
   ]
  },
  {
   "cell_type": "code",
   "execution_count": null,
   "id": "10236f98",
   "metadata": {},
   "outputs": [],
   "source": [
    "# Grab index 2 of the above list and everything past it\n"
   ]
  },
  {
   "cell_type": "code",
   "execution_count": null,
   "id": "eeb5459b",
   "metadata": {},
   "outputs": [],
   "source": [
    "# Grab everything UP TO index 3\n"
   ]
  },
  {
   "cell_type": "code",
   "execution_count": null,
   "id": "7700bf76",
   "metadata": {},
   "outputs": [],
   "source": [
    "# Make a new list variable and save to it everything between index 2 - index 5\n",
    "\n",
    "# print your new variable here\n"
   ]
  },
  {
   "cell_type": "code",
   "execution_count": null,
   "id": "e885dea4",
   "metadata": {},
   "outputs": [],
   "source": [
    "# Run this cell to save the list\n",
    "code = [\"Tiny\",\"run\",\"Only\",\"filler\",\"these\",\"house\",\"words\",\"nasty\",\"matter\",\"hark\"]"
   ]
  },
  {
   "cell_type": "code",
   "execution_count": null,
   "id": "2d3662c5",
   "metadata": {},
   "outputs": [],
   "source": [
    "# Grab every second element of 'code' from index 2 until the end and save it to a new variable\n",
    "\n",
    "# print your new variable here\n"
   ]
  },
  {
   "cell_type": "markdown",
   "id": "2a26dd13",
   "metadata": {},
   "source": [
    "## List Concatenation\n",
    "We can concatenate lists using the \"+\" operator, just like with strings"
   ]
  },
  {
   "cell_type": "code",
   "execution_count": null,
   "id": "6782b778",
   "metadata": {},
   "outputs": [],
   "source": [
    "# Create a variable called \"first_list\" that contains integer or string values of numbers 1-6\n"
   ]
  },
  {
   "cell_type": "code",
   "execution_count": null,
   "id": "a802c550",
   "metadata": {},
   "outputs": [],
   "source": [
    "# A new pre-made list. Run the cell to save it\n",
    "new_list = [7,8,\"nine\",True]"
   ]
  },
  {
   "cell_type": "code",
   "execution_count": null,
   "id": "fd614e52",
   "metadata": {
    "scrolled": true
   },
   "outputs": [],
   "source": [
    "# Use concatentation to concatenate the first list with the new one\n"
   ]
  },
  {
   "cell_type": "code",
   "execution_count": null,
   "id": "58758e05",
   "metadata": {},
   "outputs": [],
   "source": [
    "# Notice that it doesn't save the result. Print the \"first_list\" variable to test it\n"
   ]
  },
  {
   "cell_type": "code",
   "execution_count": null,
   "id": "1a157c87",
   "metadata": {},
   "outputs": [],
   "source": [
    "# To save the result, make a new variable, or reassign your old one and save the concatenated lists to it\n",
    "\n",
    "# print your new list\n"
   ]
  },
  {
   "cell_type": "markdown",
   "id": "6d435e69",
   "metadata": {},
   "source": [
    "We can use the * operator to multiply our list, creating repetition. For example:\n",
    "\n",
    "a = [1,2,3]\n",
    "\n",
    "a * 3 will output [1,2,3,1,2,3,1,2,3]"
   ]
  },
  {
   "cell_type": "code",
   "execution_count": null,
   "id": "0e085bf7",
   "metadata": {},
   "outputs": [],
   "source": [
    "# Multiply your new list by 3 and see what happens\n"
   ]
  },
  {
   "cell_type": "code",
   "execution_count": null,
   "id": "c2a753ac",
   "metadata": {},
   "outputs": [],
   "source": [
    "# This does not actually change the value of your variable. If you call it again, you will find the list unchanged\n"
   ]
  },
  {
   "cell_type": "code",
   "execution_count": null,
   "id": "a895aacb",
   "metadata": {},
   "outputs": [],
   "source": [
    "# How would we make the above command permanent?\n"
   ]
  },
  {
   "cell_type": "markdown",
   "id": "d94fa186",
   "metadata": {},
   "source": [
    "## Basic List Methods\n",
    "\n",
    "Similar to strings, lists have many methods that make working with them easy.\n",
    "\n",
    "### The \".append()\" method allows you to add a piece of data to the end of your list\n",
    "\n",
    "e.g.\n",
    "\n",
    "my_list = [1,2,3,4,5,6,7,8,9]\n",
    "\n",
    "my_list.append(10)\n",
    "\n",
    "my_list\n",
    "\n",
    "[1,2,3,4,5,6,7,8,9,10]"
   ]
  },
  {
   "cell_type": "code",
   "execution_count": null,
   "id": "9818b4eb",
   "metadata": {},
   "outputs": [],
   "source": [
    "# Let's add the word \"finished\" to the end of this list\n",
    "stuff = [\"This\",\"list\",\"is\",\"not\",\"quite\"]\n",
    "\n",
    "# Look inside (print) your 'stuff' list\n"
   ]
  },
  {
   "cell_type": "markdown",
   "id": "c7fa12b9",
   "metadata": {},
   "source": [
    "### The \".pop()\" method will remove an item from  specified index position in your list.\n",
    "\n",
    "If no index is given, the default will be the last index (-1)"
   ]
  },
  {
   "cell_type": "code",
   "execution_count": null,
   "id": "c8fad9c8",
   "metadata": {},
   "outputs": [],
   "source": [
    "# Created a variable called \"popped_item\" and assign it a value of stuff.pop(0)\n"
   ]
  },
  {
   "cell_type": "code",
   "execution_count": null,
   "id": "abf9ebd0",
   "metadata": {},
   "outputs": [],
   "source": [
    "# Call your \"stuff\" list and see what happened after the last code\n"
   ]
  },
  {
   "cell_type": "code",
   "execution_count": null,
   "id": "5d5be84e",
   "metadata": {},
   "outputs": [],
   "source": [
    "# Call your \"popped_item\" variable and see what is contained in it\n"
   ]
  },
  {
   "cell_type": "markdown",
   "id": "0634a1dd",
   "metadata": {},
   "source": [
    "### The \".insert()\" method will insert an object into the specified index position in your list\n",
    "\n",
    "Two arguments are required for this method - an index position and an item"
   ]
  },
  {
   "cell_type": "code",
   "execution_count": null,
   "id": "c4b75c31",
   "metadata": {},
   "outputs": [],
   "source": [
    "# Save this variable\n",
    "items = [\"This\",\"list\",\"is\",\"missing\",\"an\",\"item\"]\n",
    "add = \"not\""
   ]
  },
  {
   "cell_type": "code",
   "execution_count": null,
   "id": "f2392670",
   "metadata": {},
   "outputs": [],
   "source": [
    "# Use the \".insert()\" method to insert the \"add\" variable into index position 3\n"
   ]
  },
  {
   "cell_type": "code",
   "execution_count": null,
   "id": "4a9692c0",
   "metadata": {},
   "outputs": [],
   "source": [
    "# Look at your \"items\" variable\n"
   ]
  },
  {
   "cell_type": "code",
   "execution_count": null,
   "id": "715ad71a",
   "metadata": {},
   "outputs": [],
   "source": [
    "# Coding Challenge: Can you take the last item of the list below and move it to the first index (0)?\n",
    "move_last = [\"make\",\"the\",\"last\",\"word\",\"the\",\"first\",\"Let's\"]\n"
   ]
  },
  {
   "cell_type": "code",
   "execution_count": null,
   "id": "b68ed55d",
   "metadata": {},
   "outputs": [],
   "source": [
    "# Call the 'move_last' variable to prove your work\n"
   ]
  },
  {
   "cell_type": "markdown",
   "id": "4c556fc0",
   "metadata": {},
   "source": [
    "### The \".sort()\" method will arrange the items in a list\n",
    "\n",
    "The arrangement is done alphabetically or numerically (but not both together)"
   ]
  },
  {
   "cell_type": "code",
   "execution_count": null,
   "id": "d7a8e497",
   "metadata": {},
   "outputs": [],
   "source": [
    "# Here is a messy list. Run this code to save the variable\n",
    "sort_me = ['c', 'a', 'D', 'A', 'b', 'C', 'B', 'd']"
   ]
  },
  {
   "cell_type": "code",
   "execution_count": null,
   "id": "16dc85e5",
   "metadata": {},
   "outputs": [],
   "source": [
    "# Use the .sort() method on your \"sort_me\" variable\n"
   ]
  },
  {
   "cell_type": "code",
   "execution_count": null,
   "id": "0117b60a",
   "metadata": {},
   "outputs": [],
   "source": [
    "# Print the \"sort_me\" list and see how the items are arranged\n"
   ]
  },
  {
   "cell_type": "code",
   "execution_count": null,
   "id": "e690f6b7",
   "metadata": {},
   "outputs": [],
   "source": [
    "# Here is s list of numbers. Run this code to save the variable\n",
    "numbers = [3, 2, 1, 5.5, 3.5, 2.5, 1.5, 4.5, 4, 5]"
   ]
  },
  {
   "cell_type": "code",
   "execution_count": null,
   "id": "ca81973e",
   "metadata": {},
   "outputs": [],
   "source": [
    "# Sort the numbers list\n"
   ]
  },
  {
   "cell_type": "code",
   "execution_count": null,
   "id": "b901d256",
   "metadata": {},
   "outputs": [],
   "source": [
    "# Look inside (call the numbers variable)\n"
   ]
  },
  {
   "cell_type": "markdown",
   "id": "5f027ded",
   "metadata": {},
   "source": [
    "### The \".reverse()\" method will easily reverse a list for you"
   ]
  },
  {
   "cell_type": "code",
   "execution_count": null,
   "id": "0b46abb0",
   "metadata": {},
   "outputs": [],
   "source": [
    "# Save this variable\n",
    "backwards = [\"backwards\",\"is\",\"list\",\"This\"]"
   ]
  },
  {
   "cell_type": "code",
   "execution_count": null,
   "id": "72c2f805",
   "metadata": {},
   "outputs": [],
   "source": [
    "# Use the \".reverse()\" method to reverse the order of items in the list\n"
   ]
  },
  {
   "cell_type": "code",
   "execution_count": null,
   "id": "7cc67165",
   "metadata": {},
   "outputs": [],
   "source": [
    "# Print your \"backwards\" variable\n"
   ]
  },
  {
   "cell_type": "markdown",
   "id": "4ccac68f",
   "metadata": {},
   "source": [
    "## List casting\n",
    "\n",
    "We can create lists out of other sequences, such as strings, using casting or methods.\n",
    "\n",
    "Let's expore this further\n",
    "\n",
    "### First, we perform casting using the \"list()\" function"
   ]
  },
  {
   "cell_type": "code",
   "execution_count": null,
   "id": "30550bc3",
   "metadata": {},
   "outputs": [],
   "source": [
    "# Save this variable\n",
    "my_string = \"Blah blah blah\""
   ]
  },
  {
   "cell_type": "code",
   "execution_count": null,
   "id": "01572636",
   "metadata": {},
   "outputs": [],
   "source": [
    "# Now, cast the variable as a list and save it to a new variable\n"
   ]
  },
  {
   "cell_type": "code",
   "execution_count": null,
   "id": "871050d7",
   "metadata": {},
   "outputs": [],
   "source": [
    "# Call your new variable and see what happened\n"
   ]
  },
  {
   "cell_type": "markdown",
   "id": "290be6e2",
   "metadata": {},
   "source": [
    "### The \".split()\" method allows save each word of a string to a list\n",
    "\n",
    "By default, the .split() method splits a string into a list by spaces, but it can also split by a specified character.\n",
    "\n",
    "Let's see how it's done"
   ]
  },
  {
   "cell_type": "code",
   "execution_count": null,
   "id": "8e0a255e",
   "metadata": {},
   "outputs": [],
   "source": [
    "# Save this variable\n",
    "split_me = \"Let's split the words of this string into a list\""
   ]
  },
  {
   "cell_type": "code",
   "execution_count": null,
   "id": "4d59009a",
   "metadata": {},
   "outputs": [],
   "source": [
    "# Use the \".split()\" method on \"split_me\" and save the outcome to a variable\n"
   ]
  },
  {
   "cell_type": "code",
   "execution_count": null,
   "id": "8892f638",
   "metadata": {},
   "outputs": [],
   "source": [
    "# Check the type of your new variable using the type() function\n"
   ]
  },
  {
   "cell_type": "code",
   "execution_count": null,
   "id": "c2d8ed61",
   "metadata": {},
   "outputs": [],
   "source": [
    "# Print your new variable using the print() function\n"
   ]
  },
  {
   "cell_type": "code",
   "execution_count": null,
   "id": "1c55d93e",
   "metadata": {},
   "outputs": [],
   "source": [
    "# Save this variable\n",
    "split_on_dash = \"This-string-should-be-split-on-the-dash\""
   ]
  },
  {
   "cell_type": "code",
   "execution_count": null,
   "id": "34861f40",
   "metadata": {},
   "outputs": [],
   "source": [
    "# Doing it this way won't work. Try it.\n",
    "split_on_dash.split()"
   ]
  },
  {
   "cell_type": "markdown",
   "id": "ba780a9b",
   "metadata": {},
   "source": [
    "This created a list with only a single item - the full string - because empty brackets split of spaces by default. You can add a string argument of what character(s) to split on"
   ]
  },
  {
   "cell_type": "code",
   "execution_count": null,
   "id": "2bc7cacc",
   "metadata": {},
   "outputs": [],
   "source": [
    "# Copy the above command but split it where there is a dash '-' and save it to a variable\n"
   ]
  },
  {
   "cell_type": "code",
   "execution_count": null,
   "id": "62e81a8d",
   "metadata": {},
   "outputs": [],
   "source": [
    "# Print your new variable\n"
   ]
  },
  {
   "cell_type": "markdown",
   "id": "38de6e4b",
   "metadata": {},
   "source": [
    "## Nested lists\n",
    "\n",
    "Lists can contain any type of python data - even other lists! We call a list within a list a \"nested list\""
   ]
  },
  {
   "cell_type": "code",
   "execution_count": null,
   "id": "00248799",
   "metadata": {},
   "outputs": [],
   "source": [
    "# Here are 3 lists. Run this cell to save the variables\n",
    "words = [\"Short\",\"list\",\"of\",\"words\"]\n",
    "nums = [1,2,3,]\n",
    "bools = [True, False, 19 < 2, 15 != 13]"
   ]
  },
  {
   "cell_type": "code",
   "execution_count": null,
   "id": "b2da1591",
   "metadata": {},
   "outputs": [],
   "source": [
    "# Make a new list (saved to a variable called \"matrix\") and place the 3 variables above into it.\n",
    "matrix = [words, nums, bools]"
   ]
  },
  {
   "cell_type": "code",
   "execution_count": null,
   "id": "cf4f0f30",
   "metadata": {},
   "outputs": [],
   "source": [
    "# Call your new variable and look at what's inside\n",
    "matrix"
   ]
  },
  {
   "cell_type": "markdown",
   "id": "5a3c7f89",
   "metadata": {},
   "source": [
    "Let's try some indexing on nested variables.\n",
    "\n",
    "If I wanted to grab the 2nd item of the 3rd list in the matrix variable, this is how I would do it:\n",
    "\n",
    "matrix[2][1]\n",
    "\n",
    "This would return \"False\"\n",
    "\n",
    "This is how I would grab the last letter of the 2nd word in my 1st list:\n",
    "\n",
    "matrix[0][1][-1]\n",
    "\n",
    "This would return 't'"
   ]
  },
  {
   "cell_type": "code",
   "execution_count": null,
   "id": "4955269a",
   "metadata": {},
   "outputs": [],
   "source": [
    "# Use indexing to grab the number 3 from the list second list (nums) in your matrix\n"
   ]
  },
  {
   "cell_type": "code",
   "execution_count": null,
   "id": "9201cea6",
   "metadata": {},
   "outputs": [],
   "source": [
    "# Look at the commented line of code below. What would be the output? Answer in the last comment\n",
    "# matrix[2][3]\n",
    "# "
   ]
  },
  {
   "cell_type": "markdown",
   "id": "3ec53317",
   "metadata": {},
   "source": [
    "## Great! Now let's visit the list's cousin, the tuple"
   ]
  },
  {
   "cell_type": "markdown",
   "id": "769d56b4",
   "metadata": {},
   "source": [
    "# Tuples\n",
    "Tuples are like lists in most ways:\n",
    "\n",
    "1. They are sequences of data\n",
    "2. They can be indexed and sliced\n",
    "3. They can contain mixed object types\n",
    "4. They can be cast like lists with the tuple() function\n",
    "\n",
    "But there are some noteable differences:\n",
    "\n",
    "1. Tuples are immuteable (unchangeable)\n",
    "2. They have fewer methods\n",
    "3. They take less memory and space\n",
    "\n",
    "We use tuples primarily when we don't want our data to be altered in code or want our code to run faster'\n",
    "\n",
    "We use round brackets ( ) to define tuples"
   ]
  },
  {
   "cell_type": "code",
   "execution_count": null,
   "id": "c8219c4c",
   "metadata": {},
   "outputs": [],
   "source": [
    "# Here is a tuple containing 2 lists. Run the code to save it\n",
    "my_tuple = ([1,2,3],[\"extend\",\"this\"])"
   ]
  },
  {
   "cell_type": "code",
   "execution_count": null,
   "id": "8de8a4d2",
   "metadata": {},
   "outputs": [],
   "source": [
    "# Try using the .append() method to add the variable below to the \"my_tuple\" variable\n",
    "try_to_add = \"list item\"\n"
   ]
  },
  {
   "cell_type": "markdown",
   "id": "9aa27e36",
   "metadata": {},
   "source": [
    "Didn't work, did it? That's because tuples are immuteable and cannot be changed.\n",
    "\n",
    "However, a list inside a tuple is still changeable"
   ]
  },
  {
   "cell_type": "code",
   "execution_count": null,
   "id": "ebdf1ff0",
   "metadata": {},
   "outputs": [],
   "source": [
    "# This time, use the .append() method on the second list inside the tuple. You need to use indexing to do this\n"
   ]
  },
  {
   "cell_type": "markdown",
   "id": "c7ec2537",
   "metadata": {},
   "source": [
    "### Tuples only have 2 methods:\n",
    "### .count()\n",
    "This will count how many times an object appears in a tuple"
   ]
  },
  {
   "cell_type": "code",
   "execution_count": null,
   "id": "61d5561b",
   "metadata": {},
   "outputs": [],
   "source": [
    "# Save this variable\n",
    "to_count = (1,2,1,3,1,4,1,5)"
   ]
  },
  {
   "cell_type": "code",
   "execution_count": null,
   "id": "8d1ea14e",
   "metadata": {},
   "outputs": [],
   "source": [
    "# Use the .count() method to count how many times the number one appears in the \"to_count\" tuple (.count(1))\n"
   ]
  },
  {
   "cell_type": "markdown",
   "id": "52291e9d",
   "metadata": {},
   "source": [
    "### .index()\n",
    "Just like with lists, the .index() method will find the first index position of a specified object"
   ]
  },
  {
   "cell_type": "code",
   "execution_count": null,
   "id": "fe2229e0",
   "metadata": {},
   "outputs": [],
   "source": [
    "# Use the .index() method to find the index position of the number 4 in the \"to_count\" tuple\n"
   ]
  },
  {
   "cell_type": "markdown",
   "id": "b4837d88",
   "metadata": {},
   "source": [
    "# Good Work!"
   ]
  }
 ],
 "metadata": {
  "kernelspec": {
   "display_name": "Python 3 (ipykernel)",
   "language": "python",
   "name": "python3"
  },
  "language_info": {
   "codemirror_mode": {
    "name": "ipython",
    "version": 3
   },
   "file_extension": ".py",
   "mimetype": "text/x-python",
   "name": "python",
   "nbconvert_exporter": "python",
   "pygments_lexer": "ipython3",
   "version": "3.9.12"
  }
 },
 "nbformat": 4,
 "nbformat_minor": 5
}
