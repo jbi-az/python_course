{
 "cells": [
  {
   "cell_type": "markdown",
   "id": "d8ea73e5",
   "metadata": {},
   "source": [
    "# Control Flow 01 - IF Statements"
   ]
  },
  {
   "cell_type": "markdown",
   "id": "d395f052",
   "metadata": {},
   "source": [
    "Welcome to our first lab of module 3.\n",
    "\n",
    "Here, we will learn how to control the outcome of our code using booleans.\n",
    "\n",
    "**Here is how it works:**\n",
    "\n",
    "1. We set a condition using the **\"if\"** statement\n",
    "2. After **\"if\"**, we put a **boolean expression**\n",
    "3. We end the statement with a **semi-colon - :**\n",
    "4. We start a **new line with an indentation**\n",
    "5. On the new line, we write **the code that should execute if our boolean is True**\n",
    "6. Below, we put an **\"else\" statement**, in line with the \"if\" statement\n",
    "7. On a new, indented line, we write the code that should execute **if our boolean is False**\n",
    "\n",
    "E.g.\n",
    "\n",
    "name = \"Mohammad\"\n",
    "\n",
    "if name == \"Mohammad\":\n",
    "\n",
    "    print(\"Welcome, Mohammad\")\n",
    "    \n",
    "else:\n",
    "\n",
    "    print(\"Where is Mohammad?\")"
   ]
  },
  {
   "cell_type": "markdown",
   "id": "10bf1898",
   "metadata": {},
   "source": [
    "## \"If\" Statements"
   ]
  },
  {
   "cell_type": "markdown",
   "id": "fc0b0667",
   "metadata": {},
   "source": [
    "Let's start with the simple \"if\" statement\n",
    "\n",
    "The \"if\" statement's logic is fairly simple: \n",
    "\n",
    "1. Line 1: Make a Boolean statement\n",
    "2. Line 2: Write the code that should run IF the boolean is True.\n",
    "\n",
    "**E.g.:**\n",
    "\n",
    "if 1 == 1:\n",
    "\n",
    "    print(\"One is equal to one\")"
   ]
  },
  {
   "cell_type": "code",
   "execution_count": null,
   "id": "483109a6",
   "metadata": {},
   "outputs": [],
   "source": [
    "# This is an example 'if' statement syntax.\n",
    "if 5 == 5:\n",
    "    print(\"yes\")"
   ]
  },
  {
   "cell_type": "code",
   "execution_count": null,
   "id": "6b254501",
   "metadata": {},
   "outputs": [],
   "source": [
    "# You can also use variable values of True or False. There are 2 ways to do this. Run the next 3 cells below:\n",
    "a = 1 < 2"
   ]
  },
  {
   "cell_type": "code",
   "execution_count": null,
   "id": "9c9cd8e5",
   "metadata": {},
   "outputs": [],
   "source": [
    "if a == True:\n",
    "    print(\"'a' is True\")"
   ]
  },
  {
   "cell_type": "code",
   "execution_count": null,
   "id": "f49c0297",
   "metadata": {},
   "outputs": [],
   "source": [
    "# This is the same as 'if a == True'. You can use this syntax for more condensed code:\n",
    "if a:\n",
    "    print(\"This also works\")"
   ]
  },
  {
   "cell_type": "code",
   "execution_count": null,
   "id": "4b47e969",
   "metadata": {},
   "outputs": [],
   "source": [
    "# Create a variable with a boolean value of \"True\"\n"
   ]
  },
  {
   "cell_type": "code",
   "execution_count": null,
   "id": "16db6fd9",
   "metadata": {},
   "outputs": [],
   "source": [
    "# Create an \"if\" statement that will print \"It was TRUE!\" if your variable is True\n"
   ]
  },
  {
   "cell_type": "code",
   "execution_count": null,
   "id": "c2b9883b",
   "metadata": {},
   "outputs": [],
   "source": [
    "# Create another variable with a boolean value of \"False\"\n"
   ]
  },
  {
   "cell_type": "code",
   "execution_count": null,
   "id": "8f620722",
   "metadata": {},
   "outputs": [],
   "source": [
    "# Create another \"if\" statement that will print \"It was TRUE!\" if your new variable is True. Do you get an output?\n"
   ]
  },
  {
   "cell_type": "markdown",
   "id": "ced2a86e",
   "metadata": {},
   "source": [
    "## \"Else\" Statements\n",
    "Let's build on the \"if\" statement now.\n",
    "\n",
    "We know that the \"if\" statement checks a boolean condition for True or False.\n",
    "\n",
    "What if we want to have one output for a result of True and another for False?\n",
    "\n",
    "That's where the \"else\" statement comes in. \n",
    "\n",
    "**The logic works like this:**\n",
    "\n",
    "**If this statement is True:**\n",
    "\n",
    "    Do this\n",
    "    \n",
    "**Else, if the statement is False:**\n",
    "\n",
    "    Do this"
   ]
  },
  {
   "cell_type": "code",
   "execution_count": null,
   "id": "4e627596",
   "metadata": {},
   "outputs": [],
   "source": [
    "# Here is an example of an if/else statement. Run the code to see what happens. Can you predict the output?\n",
    "if 1 == 1:\n",
    "    print(\"One is equal to one\")\n",
    "else:\n",
    "    print(\"This will print if the 'if' statement is False\")"
   ]
  },
  {
   "cell_type": "code",
   "execution_count": null,
   "id": "b02b76ea",
   "metadata": {},
   "outputs": [],
   "source": [
    "# Copy the code above, but change the Boolean expression to a False statement\n"
   ]
  },
  {
   "cell_type": "code",
   "execution_count": null,
   "id": "560c4b04",
   "metadata": {},
   "outputs": [],
   "source": [
    "# You can also place a boolean value directly after 'if'. Run the 2 cells below and see how it works\n",
    "if True:\n",
    "    print(\"It was True!\")\n",
    "else:\n",
    "    print(\"It was False!\")"
   ]
  },
  {
   "cell_type": "code",
   "execution_count": 7,
   "id": "10ffc037",
   "metadata": {},
   "outputs": [
    {
     "name": "stdout",
     "output_type": "stream",
     "text": [
      "It was False!\n"
     ]
    }
   ],
   "source": [
    "if False:\n",
    "    print(\"It was True!\")\n",
    "else:\n",
    "    print(\"It was False!\")"
   ]
  },
  {
   "cell_type": "code",
   "execution_count": null,
   "id": "a0f1f876",
   "metadata": {},
   "outputs": [],
   "source": [
    "# Create a variable with your age (use an integer, not string)\n",
    "age = "
   ]
  },
  {
   "cell_type": "code",
   "execution_count": null,
   "id": "8801f21d",
   "metadata": {},
   "outputs": [],
   "source": [
    "# Create an if/else statement that will print \"You are still young\" if the age is less than 41, and prints \"You're old\" if not\n"
   ]
  },
  {
   "cell_type": "markdown",
   "id": "eb215326",
   "metadata": {},
   "source": [
    "## \"Elif\" Statements\n",
    "\n",
    "**\"Elif\"** simply stands for \"else if\"\n",
    "\n",
    "The elif statement allows us to check a second condition, in case the first one is False\n",
    "\n",
    "**It works like this:**\n",
    "\n",
    "**if** this statement is True:\n",
    "\n",
    "    Do this\n",
    "    \n",
    "**elif** (else if) this statement is True instead:\n",
    "\n",
    "    Do this\n",
    "    \n",
    "**else** (if neither statement is True):\n",
    "    \n",
    "    Do this"
   ]
  },
  {
   "cell_type": "code",
   "execution_count": 9,
   "id": "b25f1a64",
   "metadata": {},
   "outputs": [
    {
     "name": "stdout",
     "output_type": "stream",
     "text": [
      "'a' was False, but 'b' was True!\n"
     ]
    }
   ],
   "source": [
    "# Read this code, try to predict the output, then run it\n",
    "a = False\n",
    "b = True\n",
    "\n",
    "if a == True:\n",
    "    print(\"'a' was True\")\n",
    "elif b == True:\n",
    "    print(\"'a' was False, but 'b' was True!\")\n",
    "else:\n",
    "    print(\"Both 'a' and 'b' are False\")"
   ]
  },
  {
   "cell_type": "code",
   "execution_count": null,
   "id": "788e39a6",
   "metadata": {},
   "outputs": [],
   "source": [
    "# Copy the above code but change 'a' to True and 'b' to False\n"
   ]
  },
  {
   "cell_type": "code",
   "execution_count": null,
   "id": "5d7c1cf4",
   "metadata": {},
   "outputs": [],
   "source": [
    "# Copy the above code but make both 'a' and 'b' False\n"
   ]
  },
  {
   "cell_type": "markdown",
   "id": "2b4a992a",
   "metadata": {},
   "source": [
    "## Practice Challenges\n",
    "\n",
    "Time to start learning to walk on our own with code. Try to solve these challenges without help.\n",
    "\n",
    "We will start easy and advance as we go.\n",
    "\n",
    "**Use the previous codes in this lab as your syntax cheat sheet and don't be afraid to ask google for help!**"
   ]
  },
  {
   "cell_type": "markdown",
   "id": "a7a1dce0",
   "metadata": {},
   "source": [
    "### Task 1"
   ]
  },
  {
   "cell_type": "code",
   "execution_count": null,
   "id": "028461c5",
   "metadata": {},
   "outputs": [],
   "source": [
    "# Create a variable called 'location' that contains the string value of \"Beach\"\n"
   ]
  },
  {
   "cell_type": "code",
   "execution_count": null,
   "id": "f8ec92f8",
   "metadata": {},
   "outputs": [],
   "source": [
    "# Create a statement that will print \"See you at the beach\" if location equals \"Beach\" and will print \"Where are you?\" if not\n"
   ]
  },
  {
   "cell_type": "code",
   "execution_count": null,
   "id": "965a6cd1",
   "metadata": {},
   "outputs": [],
   "source": [
    "# Copy the first statement and run it here, but change the value of location to \"Club\" first\n"
   ]
  },
  {
   "cell_type": "markdown",
   "id": "f08f473c",
   "metadata": {},
   "source": [
    "### Task 2"
   ]
  },
  {
   "cell_type": "code",
   "execution_count": null,
   "id": "f0f788c4",
   "metadata": {},
   "outputs": [],
   "source": [
    "# Save your real name to this variable\n",
    "name = "
   ]
  },
  {
   "cell_type": "code",
   "execution_count": null,
   "id": "fa239622",
   "metadata": {},
   "outputs": [],
   "source": [
    "# Create a variable that takes a user input, asking the user for their name\n",
    "user_name = "
   ]
  },
  {
   "cell_type": "code",
   "execution_count": null,
   "id": "5d3c8b2f",
   "metadata": {},
   "outputs": [],
   "source": [
    "# Create a statement that will print \"Hello, Sir!\" if the input is your real name, or else will print \"Who are you?\" if not\n"
   ]
  },
  {
   "cell_type": "markdown",
   "id": "ec996d0e",
   "metadata": {},
   "source": [
    "## Nested if statements\n",
    "\n",
    "A \"nested\" if statement is an if statement within an if statement.\n",
    "\n",
    "If the first condition is False, the code will skip ahead as usual\n",
    "\n",
    "However, if the first condition is True, another decision will be made in the line(s) below\n",
    "\n",
    "**For example:**"
   ]
  },
  {
   "cell_type": "code",
   "execution_count": null,
   "id": "1c3b234f",
   "metadata": {},
   "outputs": [],
   "source": [
    "# Try the code below to see the outputs. Try changing the True/False values to receive different results\n",
    "hungry = True\n",
    "\n",
    "fasting = False\n",
    "\n",
    "if hungry:\n",
    "    print(\"I'm hungry, but is it fasting time?\")\n",
    "    if not fasting: # note that the \"NOT\" operator will make a False statement True\n",
    "        print(\"I'm not fasting, so let's eat!!!\")\n",
    "        eat = True\n",
    "    else:\n",
    "        print(\"I'm hungry, but it's fasting time. I must not eat now!\")\n",
    "        eat = False\n",
    "else:\n",
    "    print(\"I'm not hungry\")\n",
    "    eat = False\n",
    "    \n",
    "print(eat)"
   ]
  },
  {
   "cell_type": "markdown",
   "id": "77039224",
   "metadata": {},
   "source": [
    "**Let's try it**"
   ]
  },
  {
   "cell_type": "code",
   "execution_count": null,
   "id": "d1c3dc7f",
   "metadata": {},
   "outputs": [],
   "source": [
    "# Make a variable with an integer value representing an hour (For example: hour = 13)\n",
    "hour = "
   ]
  },
  {
   "cell_type": "code",
   "execution_count": null,
   "id": "d6322ac4",
   "metadata": {},
   "outputs": [],
   "source": [
    "# Fill in the 'weekend' variable below with a value of True or False (Choose one)\n",
    "weekend = "
   ]
  },
  {
   "cell_type": "code",
   "execution_count": null,
   "id": "0d0410b3",
   "metadata": {},
   "outputs": [],
   "source": [
    "# Run this code:\n",
    "sleep = True"
   ]
  },
  {
   "cell_type": "markdown",
   "id": "f5eeac26",
   "metadata": {},
   "source": [
    "**Now make the 'if' statement**\n",
    "\n",
    "The indentations are done for you. Just follow the comments line by line"
   ]
  },
  {
   "cell_type": "code",
   "execution_count": null,
   "id": "5b0b388f",
   "metadata": {},
   "outputs": [],
   "source": [
    "# Make an if statement that checks if the hour is greater than or equal to 6:\n",
    "\n",
    "    # If True, print \"It's after 6, but is it the weekend?\"\n",
    "    \n",
    "    # Make another if statement that checks if weekend is True:\n",
    "    \n",
    "        #If True, print \"It's the weekend! No need to wake up!\"\n",
    "        \n",
    "    # Else (Notice the indentation. This else statement goes under the SECOND if statement that checks the weekend):\n",
    "    \n",
    "        # Print \"It's a weekday, so I better wake up\"\n",
    "        \n",
    "        # Change the variable sleep to True\n",
    "        \n",
    "# Else (Notice the indentation. This else statement goes under the FIRST if statement that checks the hour):\n",
    "\n",
    "    # Print \"It's not yet 6. I can stay in bed\"\n",
    "    "
   ]
  },
  {
   "cell_type": "code",
   "execution_count": null,
   "id": "1b295778",
   "metadata": {},
   "outputs": [],
   "source": [
    "# Print your 'sleep' variable to see if the value changed\n",
    "print()"
   ]
  },
  {
   "cell_type": "markdown",
   "id": "a79c511a",
   "metadata": {},
   "source": [
    "# Good job taking your first steps to learning code control flow"
   ]
  }
 ],
 "metadata": {
  "kernelspec": {
   "display_name": "Python 3 (ipykernel)",
   "language": "python",
   "name": "python3"
  },
  "language_info": {
   "codemirror_mode": {
    "name": "ipython",
    "version": 3
   },
   "file_extension": ".py",
   "mimetype": "text/x-python",
   "name": "python",
   "nbconvert_exporter": "python",
   "pygments_lexer": "ipython3",
   "version": "3.9.12"
  }
 },
 "nbformat": 4,
 "nbformat_minor": 5
}
