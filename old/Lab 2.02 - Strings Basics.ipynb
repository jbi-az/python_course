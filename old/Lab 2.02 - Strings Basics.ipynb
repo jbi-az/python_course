{
 "cells": [
  {
   "cell_type": "code",
   "execution_count": null,
   "id": "b23b0128",
   "metadata": {},
   "outputs": [],
   "source": [
    "# Write your name in the print statement below:\n",
    "print(\"\")"
   ]
  },
  {
   "cell_type": "markdown",
   "id": "2dafa43c",
   "metadata": {},
   "source": [
    "# Strings\n",
    "\n",
    "We use strings in Python to convey, store, or record text-based information.\n",
    "\n",
    "Strings in Python are an ORDERED SEQUENCE, meaning that Python tracks and indexes every element (letters, numbers, spaces, and special characters) in order from beginning to end (and in reverse).\n",
    "\n",
    "We use quotes \"\" to declare a string in our code.\n",
    "\n",
    "**Here is an example of a string:**\n",
    "\n",
    "\"Hello, Cadets!\"\n",
    "\n",
    "Python understands this string as a sequence of all the characters contained between the quotes, including the comma, space, and exclamation point.\n",
    "\n",
    "**In this lab, we will learn:**\n",
    "1. How to Create a String\n",
    "2. Printing Strings\n",
    "3. String tracking and indexing\n",
    "4. String Concatenation"
   ]
  },
  {
   "cell_type": "markdown",
   "id": "e8068768",
   "metadata": {},
   "source": [
    "### Defining Strings\n",
    "Strings are defined using either single quotes ('') or double quotes (\"\")\n",
    "\n",
    "For Example:"
   ]
  },
  {
   "cell_type": "code",
   "execution_count": null,
   "id": "001e9f02",
   "metadata": {},
   "outputs": [],
   "source": [
    "# Single Word\n",
    "'Hello'"
   ]
  },
  {
   "cell_type": "code",
   "execution_count": null,
   "id": "7c64e8dd",
   "metadata": {},
   "outputs": [],
   "source": [
    "# Whole Sentence\n",
    "'Hello, Cadets! Very glad to be here!'"
   ]
  },
  {
   "cell_type": "code",
   "execution_count": null,
   "id": "f4991552",
   "metadata": {},
   "outputs": [],
   "source": [
    "# You can also use double quotes to make a string\n",
    "\"This string uses double quotes. I preffer double quotes. Why? See Below\""
   ]
  },
  {
   "cell_type": "code",
   "execution_count": null,
   "id": "2a6ae2d5",
   "metadata": {},
   "outputs": [],
   "source": [
    "# Pay attention to which quotes you use! Can you fix it?\"\n",
    "'This code isn't going to work, but why?'"
   ]
  },
  {
   "cell_type": "markdown",
   "id": "9ed8d29b",
   "metadata": {},
   "source": [
    "### Printing Strings\n",
    "Using Jupyter notebook with just a string in a cell will automatically output strings, but the correct way to display strings in your output in other IDE's is by using a 'print function.'"
   ]
  },
  {
   "cell_type": "code",
   "execution_count": null,
   "id": "2f7c6055",
   "metadata": {},
   "outputs": [],
   "source": [
    "# Jupyter Notebook allows us to just declare a string, as above\n",
    "\"Hello, again!\""
   ]
  },
  {
   "cell_type": "code",
   "execution_count": null,
   "id": "b415a1b2",
   "metadata": {},
   "outputs": [],
   "source": [
    "# Declare your own string - anything you want"
   ]
  },
  {
   "cell_type": "code",
   "execution_count": null,
   "id": "036e6d3a",
   "metadata": {},
   "outputs": [],
   "source": [
    "# However, if we are creating a code file, which will run in a separate interpreter, it won't show our string\n",
    "# Also, we can't output multiple strings in a single cell this way\n",
    "\"Test line number 1\"\n",
    "\"Test line number 2\""
   ]
  },
  {
   "cell_type": "markdown",
   "id": "8a2ea33c",
   "metadata": {},
   "source": [
    "If we want our string to be displayed to the user in any environment, the correct way is to use the \"print\" function.\n"
   ]
  },
  {
   "cell_type": "code",
   "execution_count": null,
   "id": "68d5be4a",
   "metadata": {},
   "outputs": [],
   "source": [
    "# Notice how our output isn't wrapped in quotes\n",
    "print(\"Hello again!\")"
   ]
  },
  {
   "cell_type": "code",
   "execution_count": null,
   "id": "894b252e",
   "metadata": {},
   "outputs": [],
   "source": [
    "# Print out any string you want"
   ]
  },
  {
   "cell_type": "code",
   "execution_count": null,
   "id": "1f155042",
   "metadata": {},
   "outputs": [],
   "source": [
    "# This allows us to print multiple lines in a single cell\n",
    "print(\"Test line number 1\")\n",
    "print(\"Test line number 2\")"
   ]
  },
  {
   "cell_type": "code",
   "execution_count": null,
   "id": "dec52231",
   "metadata": {},
   "outputs": [],
   "source": [
    "# Print 3 unique lines of string in this cell\n"
   ]
  },
  {
   "cell_type": "markdown",
   "id": "b9c6452b",
   "metadata": {},
   "source": [
    "### Printing Multiple lines\n",
    "There are other ways to print multiple lines:\n",
    "1. We can use tripple quotes (\"\"\"\" \"\"\"\")\n",
    "2. We can use escape commands (\\n)"
   ]
  },
  {
   "cell_type": "code",
   "execution_count": null,
   "id": "c0eb904c",
   "metadata": {},
   "outputs": [],
   "source": [
    "# Using tripple quotes allows us to print multi-line strings and not worry about punctuation or quotes inside our string.\n",
    "print(\"\"\"Using tripple quotes\n",
    "I can print\n",
    "multiple lines\n",
    "and I can do quotes \"Like this\"\n",
    "or 'like this'\n",
    "without breaking the code\"\"\")"
   ]
  },
  {
   "cell_type": "code",
   "execution_count": null,
   "id": "fb3e13be",
   "metadata": {},
   "outputs": [],
   "source": [
    "# Print the same 3 lines of code you wrote above, but this time with tripple quotes and only one print function\n"
   ]
  },
  {
   "cell_type": "markdown",
   "id": "49ce68f9",
   "metadata": {},
   "source": [
    "### Escape Characters\n",
    "the backslash (\\\\) is a special character which the interpreter will read in a unique way.\n",
    "\n",
    "We call it the \"Escape Character\". When combined with particular letters, it will cause the interpreter to escape from the string and perform a specific operation\n",
    "\n",
    "Here are some of the basics:\n",
    "1. \\\\' (Single Quote)\n",
    "2. \\n (Start a new line)\n",
    "3. \\t (Create an indentation)"
   ]
  },
  {
   "cell_type": "code",
   "execution_count": null,
   "id": "f621817d",
   "metadata": {},
   "outputs": [],
   "source": [
    "# Read the following string and try to identify what the escape characters are doing:\n",
    "print(\"This is the first line\\nThis is the second line\\n This is the third line with a space\\n\\t This is the fourth line with an indentation\")"
   ]
  },
  {
   "cell_type": "code",
   "execution_count": null,
   "id": "b5c14cab",
   "metadata": {},
   "outputs": [],
   "source": [
    "# You can also use escape characters to ignore quotes and avoid errors\n",
    "print('Using a single quote in this string didn\\'t break my code!')"
   ]
  },
  {
   "cell_type": "code",
   "execution_count": null,
   "id": "70099a51",
   "metadata": {},
   "outputs": [],
   "source": [
    "# Print the same 3 lines of code you wrote above, but this time using the escape character \n",
    "# Bonus: (Make the 3rd line indented)\n"
   ]
  },
  {
   "cell_type": "markdown",
   "id": "00892186",
   "metadata": {},
   "source": [
    "### Calculating Length\n",
    "\n",
    "How many characters (including punctuation, spaces, etc) are in the following string?"
   ]
  },
  {
   "cell_type": "code",
   "execution_count": null,
   "id": "cb1c0499",
   "metadata": {},
   "outputs": [],
   "source": [
    "print(\"We’ve had vicious kings and we’ve had idiot kings, but I don’t know if we’ve ever been cursed with a vicious idiot for a king! ~Tyrion Lannister~\")"
   ]
  },
  {
   "cell_type": "code",
   "execution_count": null,
   "id": "3a6e7285",
   "metadata": {},
   "outputs": [],
   "source": [
    "# Luckily, we don't have to count every character ourselves. We can simple call the \"len()\" function to do it for us\n",
    "# Run this cell\n",
    "len(\"We’ve had vicious kings and we’ve had idiot kings, but I don’t know if we’ve ever been cursed with a vicious idiot for a king! ~Tyrion Lannister~\")"
   ]
  },
  {
   "cell_type": "code",
   "execution_count": null,
   "id": "c50aef56",
   "metadata": {},
   "outputs": [],
   "source": [
    "# We can also save the long string into a simple variable and calculate the length of the variable\n",
    "quote = \"We’ve had vicious kings and we’ve had idiot kings, but I don’t know if we’ve ever been cursed with a vicious idiot for a king! ~Tyrion Lannister~\""
   ]
  },
  {
   "cell_type": "code",
   "execution_count": null,
   "id": "add42954",
   "metadata": {},
   "outputs": [],
   "source": [
    "# Calculate the length of the quote above, using the variable name\n"
   ]
  },
  {
   "cell_type": "markdown",
   "id": "47dd2037",
   "metadata": {},
   "source": [
    "### Indexing\n",
    "We use the square brackets [ ] to perform indexing.\n",
    "\n",
    "The syntax is as follows:\n",
    "\n",
    "string/variable[integer]\n",
    "\n",
    "For example:\n",
    "\n",
    "my_string = \"blah blah blah\"\n",
    "\n",
    "mystring[5]\n",
    "\n",
    "This will output 'b' because 'b' is the 6th caracter in our sequence\n",
    "\n",
    "Lets practice some indexing on our Tyrion Lannister quote"
   ]
  },
  {
   "cell_type": "code",
   "execution_count": null,
   "id": "41975ffe",
   "metadata": {},
   "outputs": [],
   "source": [
    "# Grab the first character of our quote above\n"
   ]
  },
  {
   "cell_type": "code",
   "execution_count": null,
   "id": "b547ea5e",
   "metadata": {},
   "outputs": [],
   "source": [
    "# Grab the 5th character (Remember, indexing starts with the number 0)\n"
   ]
  },
  {
   "cell_type": "code",
   "execution_count": null,
   "id": "cb5b8842",
   "metadata": {},
   "outputs": [],
   "source": [
    "# Lets grab the middle character... how might we do this? Use math to solve it if you can\n"
   ]
  },
  {
   "cell_type": "code",
   "execution_count": null,
   "id": "c76c228b",
   "metadata": {},
   "outputs": [],
   "source": [
    "# Now let's grab the last letter of our string. There are a couple ways to do this.\n",
    "# First, fogure out the index of the last letter using the len function\n",
    "# This won't work... why not? Try to fix it\n",
    "quote[145]"
   ]
  },
  {
   "cell_type": "markdown",
   "id": "f9bc9be3",
   "metadata": {},
   "source": [
    "**REMEMBER**: Python also keeps a REVERSE index, starting from the END of the string with the index -1"
   ]
  },
  {
   "cell_type": "code",
   "execution_count": null,
   "id": "2e7e170e",
   "metadata": {},
   "outputs": [],
   "source": [
    "# Next, use reverse indexing to grab the last letter in a simple way\n"
   ]
  },
  {
   "cell_type": "markdown",
   "id": "362ac411",
   "metadata": {},
   "source": [
    "### String Concatenation\n",
    "Concatenation is essentially \"tying\" strings together. Let's explore how this is done.\n",
    "\n",
    "We can use the comma ',' to do concatenation"
   ]
  },
  {
   "cell_type": "code",
   "execution_count": null,
   "id": "52324c94",
   "metadata": {},
   "outputs": [],
   "source": [
    "# Make 2 variables, each with a different half of a string\n",
    "a = \n",
    "b = "
   ]
  },
  {
   "cell_type": "code",
   "execution_count": null,
   "id": "b3bba7c3",
   "metadata": {},
   "outputs": [],
   "source": [
    "# Print out both variables in one print statement using the comma for concatenation\n",
    "print()"
   ]
  },
  {
   "cell_type": "markdown",
   "id": "f065856b",
   "metadata": {},
   "source": [
    "Next, we can use the '+' operator to tie them together"
   ]
  },
  {
   "cell_type": "code",
   "execution_count": null,
   "id": "8ea0411d",
   "metadata": {},
   "outputs": [],
   "source": [
    "# Lets try concatenating our strings with the \"+\" Operator\n",
    "print()"
   ]
  },
  {
   "cell_type": "markdown",
   "id": "fd86e13f",
   "metadata": {},
   "source": [
    "Notice how this method ties strings together without a space between the first and last strings. This can be useful, but also requires us to define a space if needed."
   ]
  },
  {
   "cell_type": "code",
   "execution_count": null,
   "id": "94921adc",
   "metadata": {},
   "outputs": [],
   "source": [
    "# Let's do it again, adding a space in the middle, again with the + operator\n"
   ]
  },
  {
   "cell_type": "code",
   "execution_count": null,
   "id": "6d22f344",
   "metadata": {},
   "outputs": [],
   "source": [
    "# Lastly, we can also use the \"*\" operator to create repetition\n",
    "c = \"ha\"\n",
    "print(c*10)"
   ]
  },
  {
   "cell_type": "code",
   "execution_count": null,
   "id": "dbc31d63",
   "metadata": {},
   "outputs": [],
   "source": [
    "# What is happening in this code? Try to explain the output\n",
    "d = a[0] + b[0]\n",
    "print(d)"
   ]
  },
  {
   "cell_type": "markdown",
   "id": "4361951b",
   "metadata": {},
   "source": [
    "### Note the TYPE!\n",
    "It's important to keep track of the type of data you are tying to add.\n",
    "**Remember:**\n",
    "1. Using the \"+\" operator on integers and floats results in math.\n",
    "2. Using the \"+\" operator on strings results in concatenation.\n",
    "3. Using the \"+\" operator on a string and a number results in an error"
   ]
  },
  {
   "cell_type": "code",
   "execution_count": null,
   "id": "1547a5e2",
   "metadata": {},
   "outputs": [],
   "source": [
    "# This will NOT work. Why?\n",
    "text = \"My score for the final exam was: \"\n",
    "my_score = 98.6\n",
    "\n",
    "print(text + my_score)"
   ]
  },
  {
   "cell_type": "code",
   "execution_count": null,
   "id": "39799d77",
   "metadata": {},
   "outputs": [],
   "source": [
    "# We can check what data is stored in a variable using the \"type()\" function.\n",
    "# This can help with troubleshooting when wrong data types are used\n",
    "# Check the Data type of the \"text\" variable\n",
    "type()"
   ]
  },
  {
   "cell_type": "code",
   "execution_count": null,
   "id": "407fe010",
   "metadata": {},
   "outputs": [],
   "source": [
    "# Check the Data type od the \"my_score\" variable\n",
    "type()"
   ]
  },
  {
   "cell_type": "code",
   "execution_count": null,
   "id": "bae700d7",
   "metadata": {},
   "outputs": [],
   "source": [
    "# Fix the code to make it work (There are multiple possible answers)\n",
    "text = \"My score for the final exam was: \"\n",
    "my_score = 98.6\n",
    "\n",
    "print(text + my_score)"
   ]
  },
  {
   "cell_type": "markdown",
   "id": "3fc6ec25",
   "metadata": {},
   "source": [
    "# Great Job!\n",
    "### Strings can be tricky to really master and there are a lot of string properties left to explore, but we're off to a great start"
   ]
  }
 ],
 "metadata": {
  "kernelspec": {
   "display_name": "Python 3 (ipykernel)",
   "language": "python",
   "name": "python3"
  },
  "language_info": {
   "codemirror_mode": {
    "name": "ipython",
    "version": 3
   },
   "file_extension": ".py",
   "mimetype": "text/x-python",
   "name": "python",
   "nbconvert_exporter": "python",
   "pygments_lexer": "ipython3",
   "version": "3.9.12"
  }
 },
 "nbformat": 4,
 "nbformat_minor": 5
}
