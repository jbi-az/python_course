{
 "cells": [
  {
   "cell_type": "markdown",
   "id": "2010741d",
   "metadata": {},
   "source": [
    "# Sets and Dictionaries\n",
    "Welcome back!\n",
    "\n",
    "In this lab, we will explore the last 2 'collection' data types used by Python:\n",
    "\n",
    "    1. Sets\n",
    "    2. Dictionaries\n",
    "    \n",
    "Let's start with the first and easier one..."
   ]
  },
  {
   "cell_type": "markdown",
   "id": "b7943233",
   "metadata": {},
   "source": [
    "## Sets\n",
    "A set is much like a list or tuple, but with some noteable differences:\n",
    "\n",
    "    1. A set is defined by curly brackets - {}\n",
    "    2. A set only contains unique elements (it cannot hold 2 of the same object)\n",
    "    3. A set is not ordered and cannot be indexed or sliced\n",
    "    \n",
    "We will practice the following:\n",
    "\n",
    "    1. How to construct a set\n",
    "    2. How to cast a set\n",
    "    3. Some uses for sets"
   ]
  },
  {
   "cell_type": "markdown",
   "id": "335fde35",
   "metadata": {},
   "source": [
    "### Set Construction"
   ]
  },
  {
   "cell_type": "code",
   "execution_count": null,
   "id": "d45318e7",
   "metadata": {},
   "outputs": [],
   "source": [
    "# A set is defined with curly brackets as shown below. Run this cell\n",
    "my_set = {1,2,3}"
   ]
  },
  {
   "cell_type": "code",
   "execution_count": null,
   "id": "ce0fe7b0",
   "metadata": {},
   "outputs": [],
   "source": [
    "# use the .add() method to add the number 4 to my_set\n"
   ]
  },
  {
   "cell_type": "code",
   "execution_count": null,
   "id": "cb8396ee",
   "metadata": {},
   "outputs": [],
   "source": [
    "# Print the updated set\n"
   ]
  },
  {
   "cell_type": "code",
   "execution_count": null,
   "id": "635b8bb1",
   "metadata": {},
   "outputs": [],
   "source": [
    "# Your set already contains the number 1. Try adding the number 1 again and see what happens\n",
    "\n",
    "# Print your set\n"
   ]
  },
  {
   "cell_type": "markdown",
   "id": "576638eb",
   "metadata": {},
   "source": [
    "The number 1 was already in your set and sets cannot contain 2 of the same object so the set is unchanged"
   ]
  },
  {
   "cell_type": "markdown",
   "id": "cfb5af66",
   "metadata": {},
   "source": [
    "### Set Casting\n",
    "The set() function will construct a set out of another data type such as a list or tuple\n",
    "\n",
    "Let's try it"
   ]
  },
  {
   "cell_type": "code",
   "execution_count": null,
   "id": "3814b52b",
   "metadata": {},
   "outputs": [],
   "source": [
    "# Run this code\n",
    "objects = [1,1,1,2,2,3,3,3,4,4,4,4,5,5,6,7,7,7]"
   ]
  },
  {
   "cell_type": "code",
   "execution_count": null,
   "id": "c1cd8b93",
   "metadata": {},
   "outputs": [],
   "source": [
    "# Cast the 'objects' list as a set and save it to a variable\n"
   ]
  },
  {
   "cell_type": "code",
   "execution_count": null,
   "id": "57ca631d",
   "metadata": {},
   "outputs": [],
   "source": [
    "# Call your new variable\n"
   ]
  },
  {
   "cell_type": "markdown",
   "id": "acebfbef",
   "metadata": {},
   "source": [
    "### Easy, right? Now let's move on to...\n",
    "## Dictionaries\n",
    "A dictionary is a collection of key/value pairs\n",
    "\n",
    "Here are some important things to remember when constructing a dictionary:\n",
    "\n",
    "    1. Dictionaries, like sets, are defined by curly brackets {}\n",
    "    2. Unlike sets, each item in a dictionary is a pair of objects - a key, and its assosiated value. \n",
    "    3. Keys and values are separated by a colon.\n",
    "    4. Separate key/value pairs are separated by a comma\n",
    "\n",
    "Here is an example of a dictionary:\n",
    "\n",
    "my_dictionary = {\"a\":1, \"b\":2, \"c\":3}\n",
    "\n",
    "In the example above, the key 'a' will extract the integer value of 1.\n",
    "\n",
    "Both keys and their assosiated values are made of a data type.\n",
    "\n",
    "Some important things to remember:\n",
    "\n",
    "    1. Keys can only be a simple, non-collection data type, such as a string, integer, float, or boolean\n",
    "    2. Values can be any type of data, including collection data types like lists, tuples, sets, or other dictionaries.\n",
    "    3. Keys must be unique - attempting to add a duplicate key will simply overwrite the old key with a new value"
   ]
  },
  {
   "cell_type": "code",
   "execution_count": null,
   "id": "6c538b0e",
   "metadata": {},
   "outputs": [],
   "source": [
    "# Here is an example of a dictionary. Run this cell\n",
    "my_dict = {'key_1':100,'key_2':200, 'key_3':300}"
   ]
  },
  {
   "cell_type": "code",
   "execution_count": null,
   "id": "97e3784f",
   "metadata": {},
   "outputs": [],
   "source": [
    "# To extract a value from a dictionary, enter its key as shown below\n",
    "my_dict[\"key_1\"]"
   ]
  },
  {
   "cell_type": "markdown",
   "id": "558865c6",
   "metadata": {},
   "source": [
    "### Create your first dictionary:\n",
    "Create a dictionary, saving it to a variable called 'student'\n",
    "\n",
    "The dictionary should contain the following key/value pairs:\n",
    "\n",
    "    1. 'name' - a string value\n",
    "    2. 'age' - an integer value\n",
    "    3. 'major' - a string value"
   ]
  },
  {
   "cell_type": "code",
   "execution_count": null,
   "id": "def6c146",
   "metadata": {},
   "outputs": [],
   "source": [
    "# Create your dictionary here\n"
   ]
  },
  {
   "cell_type": "code",
   "execution_count": null,
   "id": "b10f0f8e",
   "metadata": {},
   "outputs": [],
   "source": [
    "# Extract the value connected to the 'name' key\n"
   ]
  },
  {
   "cell_type": "markdown",
   "id": "f14040b3",
   "metadata": {},
   "source": [
    "To add a key/value to your dictionary later, use the following syntax:\n",
    "\n",
    "my_dictionary[key] = value"
   ]
  },
  {
   "cell_type": "code",
   "execution_count": null,
   "id": "2dee1af1",
   "metadata": {},
   "outputs": [],
   "source": [
    "# Add the key 'GPA' to your dictionary with an integer as its paired value\n"
   ]
  },
  {
   "cell_type": "code",
   "execution_count": null,
   "id": "1945c684",
   "metadata": {},
   "outputs": [],
   "source": [
    "# Add the key 'best student' to your dictionary with a boolean as its paired value\n"
   ]
  },
  {
   "cell_type": "code",
   "execution_count": null,
   "id": "8f63ec86",
   "metadata": {},
   "outputs": [],
   "source": [
    "# Use the .pop() method with a key as the argument to remove a key/value pair from your dictionary\n"
   ]
  },
  {
   "cell_type": "code",
   "execution_count": null,
   "id": "3ab825fd",
   "metadata": {},
   "outputs": [],
   "source": [
    "# Print your dictionary and see what it contains now\n"
   ]
  },
  {
   "cell_type": "markdown",
   "id": "347d77fb",
   "metadata": {},
   "source": [
    "### Nested Dictionaries\n",
    "Dictionary values can be made of other dictionaries, as shown below:\n",
    "\n",
    "a = {'a':1, 'b':2, 'c':3, 'd':{'key1':100, 'key2':200}}\n",
    "\n",
    "If I wanted to extract the value 100 from the dictionary above, I would do it as follows:\n",
    "\n",
    "a['d']['key1']"
   ]
  },
  {
   "cell_type": "code",
   "execution_count": null,
   "id": "96e5fe91",
   "metadata": {},
   "outputs": [],
   "source": [
    "# Run this Cell. Study it carefully. Try to figure out the structure\n",
    "a = {\n",
    "    \"key1\":True,\n",
    "    'key2':False,\n",
    "    'key3':{\n",
    "        1:\"not me\",\n",
    "        2:\"not me either\",\n",
    "        3:\"GRAB ME\",\n",
    "        4:\"don't grab me\"\n",
    "    },\n",
    "    \"key4\":1,\n",
    "    \"key5\":2\n",
    "}"
   ]
  },
  {
   "cell_type": "code",
   "execution_count": null,
   "id": "8f69fa13",
   "metadata": {},
   "outputs": [],
   "source": [
    "# Try to extract the value 'GRAB ME' from the dictionary below\n"
   ]
  },
  {
   "cell_type": "markdown",
   "id": "d0a36b0e",
   "metadata": {},
   "source": [
    "# Good Job!\n",
    "Dictionaries can be especially tricky to understand, but with time and practice, you'll master their use"
   ]
  }
 ],
 "metadata": {
  "kernelspec": {
   "display_name": "Python 3 (ipykernel)",
   "language": "python",
   "name": "python3"
  },
  "language_info": {
   "codemirror_mode": {
    "name": "ipython",
    "version": 3
   },
   "file_extension": ".py",
   "mimetype": "text/x-python",
   "name": "python",
   "nbconvert_exporter": "python",
   "pygments_lexer": "ipython3",
   "version": "3.9.12"
  }
 },
 "nbformat": 4,
 "nbformat_minor": 5
}
