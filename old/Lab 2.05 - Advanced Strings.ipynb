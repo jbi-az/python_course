{
 "cells": [
  {
   "cell_type": "code",
   "execution_count": null,
   "id": "44925374",
   "metadata": {},
   "outputs": [],
   "source": [
    "# Print your name here:\n",
    "print(\"\")"
   ]
  },
  {
   "cell_type": "markdown",
   "id": "a2aa5c39",
   "metadata": {},
   "source": [
    "# Advanced Strings\n",
    "Welcome to our next lesson on strings! In this lesson we will learn how to manipulate strings like a pro using methods, slicing, and formatting.\n",
    "\n",
    "In this lab, we will learn:\n",
    "\n",
    "1. String Methods- how to find and learn them\n",
    "  \n",
    "  \n",
    "2. String slicing\n",
    "\n",
    "\n",
    "3. String Formatting 3 ways"
   ]
  },
  {
   "cell_type": "markdown",
   "id": "336c34e8",
   "metadata": {},
   "source": [
    "## String Methods\n",
    "\n",
    "Remember, we can find all the available methods for strings using \"dir(str)\""
   ]
  },
  {
   "cell_type": "code",
   "execution_count": null,
   "id": "03385bfa",
   "metadata": {},
   "outputs": [],
   "source": [
    "dir(str)"
   ]
  },
  {
   "cell_type": "markdown",
   "id": "e651c034",
   "metadata": {},
   "source": [
    "It can be a bit intimidating to look at them all at once when you're just starting, but we'll start with some of the useful methods for beginners"
   ]
  },
  {
   "cell_type": "code",
   "execution_count": null,
   "id": "9fc95968",
   "metadata": {},
   "outputs": [],
   "source": [
    "# the \"upper\" and \"lower\" methods are nice and easy. They will convert your string to all uppercase or all lowercase letters\n",
    "my_string = \"For the watch!\"\n",
    "#Make the string all uppercase using the .upper() method\n"
   ]
  },
  {
   "cell_type": "code",
   "execution_count": null,
   "id": "3a31af7c",
   "metadata": {
    "scrolled": false
   },
   "outputs": [],
   "source": [
    "# Make all characters lowercase with the .lower() method\n"
   ]
  },
  {
   "cell_type": "code",
   "execution_count": null,
   "id": "a96ad20b",
   "metadata": {},
   "outputs": [],
   "source": [
    "# the \"isupper()\" method checks if all the alphanumeric characters are uppercase\n",
    "upper = \"UPPERCASE!\"\n",
    "# run the .isupper() method on the \"upper\" variable\n"
   ]
  },
  {
   "cell_type": "code",
   "execution_count": null,
   "id": "eda83e94",
   "metadata": {},
   "outputs": [],
   "source": [
    "# Run the .islower() method on the \"upper variable\"\n"
   ]
  },
  {
   "cell_type": "code",
   "execution_count": null,
   "id": "77492110",
   "metadata": {},
   "outputs": [],
   "source": [
    "# the \"isdigit()\" method returns a boolean value on whether or not a string makes a whole number\n",
    "number_1 = \"12345\"\n",
    "number_2 = \"123abc\"\n",
    "# use the print function to run the .isdigit() method on both of the above variables\n",
    "print()\n",
    "print()"
   ]
  },
  {
   "cell_type": "code",
   "execution_count": null,
   "id": "9125cfdf",
   "metadata": {},
   "outputs": [],
   "source": [
    "# the \"replace()\" method takes 2 arguments: string.replace(\"a\", \"b\")\n",
    "# It will replace the caracter(s) of the first argument with the character(s) of the second\n",
    "my_string = \"John Paul is the worst\"\n",
    "# Use the .replace() method on the above variable to replace the word \"worst\" with \"best\" ... or any other word you choose :)\n"
   ]
  },
  {
   "cell_type": "markdown",
   "id": "88f66843",
   "metadata": {},
   "source": [
    "### Slicing\n",
    "\n",
    "Remember this quote from our last lesson with Strings?\n",
    "\n",
    "\"We’ve had vicious kings and we’ve had idiot kings, but I don’t know if we’ve ever been cursed with a vicious idiot for a king!\"\n",
    "\n",
    "Let's slice this baby up! How do we do it? We use the \"[ : ]\" to perform slicing, which will either grab everything up to a certin point or after a certain point."
   ]
  },
  {
   "cell_type": "code",
   "execution_count": null,
   "id": "2f2b8056",
   "metadata": {},
   "outputs": [],
   "source": [
    "quote = \"We’ve had vicious kings and we’ve had idiot kings, but I don’t know if we’ve ever been cursed, with a vicious idiot for a king!\""
   ]
  },
  {
   "cell_type": "code",
   "execution_count": null,
   "id": "0c0c3c8a",
   "metadata": {},
   "outputs": [],
   "source": [
    "# First lets find out the length of our string to avoid indexing errors. Do you remember how we might find the middle of the string?\n"
   ]
  },
  {
   "cell_type": "code",
   "execution_count": null,
   "id": "fc3ff976",
   "metadata": {},
   "outputs": [],
   "source": [
    "#If we want to grab everything up until the middle character, we put the middle index AFTER the colon\n",
    "quote[:]"
   ]
  },
  {
   "cell_type": "code",
   "execution_count": null,
   "id": "a75ff31e",
   "metadata": {},
   "outputs": [],
   "source": [
    "#If we want to grab everything AFTER the middle character, we put the middle index BEFORE the colon\n",
    "quote[:]"
   ]
  },
  {
   "cell_type": "code",
   "execution_count": null,
   "id": "3ec76218",
   "metadata": {},
   "outputs": [],
   "source": [
    "# Use slicing to save both halves of the quote to 2 variables called \"half_1\" and \"half_2\""
   ]
  },
  {
   "cell_type": "markdown",
   "id": "f2742381",
   "metadata": {},
   "source": [
    "What if we want to grab everything before or after the comma, but we don't know the comma's index and we don't want to count manually?\n",
    "\n",
    "No problem! We can use the \".index()\" method to find the index of the first occurance of a comma"
   ]
  },
  {
   "cell_type": "code",
   "execution_count": null,
   "id": "0e184975",
   "metadata": {},
   "outputs": [],
   "source": [
    "# Save the index of the 1st comma to a variable called \"comma\" and print the value using \"print(comma)\"\n",
    "comma = "
   ]
  },
  {
   "cell_type": "code",
   "execution_count": null,
   "id": "d46d5026",
   "metadata": {},
   "outputs": [],
   "source": [
    "# Save everything before and up-to the comma to one variable, and everything after to a second variable\n"
   ]
  },
  {
   "cell_type": "code",
   "execution_count": null,
   "id": "ac78bcf9",
   "metadata": {},
   "outputs": [],
   "source": [
    "# Use string concatenation to put both variables together"
   ]
  },
  {
   "cell_type": "code",
   "execution_count": null,
   "id": "d21e6909",
   "metadata": {},
   "outputs": [],
   "source": [
    "# Logic Challenge: Take the text after the comma and move it to the beginning of the string\n"
   ]
  },
  {
   "cell_type": "markdown",
   "id": "56e2f63d",
   "metadata": {},
   "source": [
    "Using double colon \"[ : : ]\" will allow you to skip over letters as you iterate the string"
   ]
  },
  {
   "cell_type": "code",
   "execution_count": null,
   "id": "fdfb0c3c",
   "metadata": {},
   "outputs": [],
   "source": [
    "# How can we use slicing to grab and print every second letter of our string?\n"
   ]
  },
  {
   "cell_type": "code",
   "execution_count": null,
   "id": "5b04ea74",
   "metadata": {},
   "outputs": [],
   "source": [
    "# How about every 3rd letter?\n"
   ]
  },
  {
   "cell_type": "markdown",
   "id": "8fa9e2f2",
   "metadata": {},
   "source": [
    "### String Reversal\n",
    "We can even use slicing to easily reverse our string simply by using string[: : -1]\n",
    "\n",
    "The logic is that we grab all the letters from start to finish (first 2 arguments), but in reverse steps of 1 (3rd argument)\n",
    "\n",
    "Easy, right?"
   ]
  },
  {
   "cell_type": "code",
   "execution_count": null,
   "id": "9a4cc2fe",
   "metadata": {},
   "outputs": [],
   "source": [
    "print(quote[::-1])"
   ]
  },
  {
   "cell_type": "markdown",
   "id": "1a0235b4",
   "metadata": {},
   "source": [
    "## String Formatting\n",
    "String formating helps keep our strings flexible and dynamic by allowing us to insert data and convert it to string automatically.\n",
    "\n",
    "You will commonly come across 3 different methods of string formating\n",
    "\n",
    "1. f-string literal\n",
    "2. format method\n",
    "3. formatting \"%\" operator"
   ]
  },
  {
   "cell_type": "markdown",
   "id": "1ac42d4a",
   "metadata": {},
   "source": [
    "### f-string literals\n",
    "\n",
    "f-string literals (also known as \"string interpolation\") are the most modern, current way of formatting strings. This method allows you to insert data or variables directly into curly braces {} in your string, which is easier to read and more efficient to write than the older methods.\n",
    "\n",
    "You create an f-string literal simply by blacing an 'f' in front of your string's starting quotes as shown here:\n",
    "\n",
    "name = John\n",
    "\n",
    "print(f\"Hello, my name is {name}.\")"
   ]
  },
  {
   "cell_type": "code",
   "execution_count": null,
   "id": "97e0fbbb",
   "metadata": {},
   "outputs": [],
   "source": [
    "# Lets practice with f-string literals. \n",
    "# Create various variables with string, integer, or even boolean values and insert them into a string with f-string formatting.\n",
    "\n",
    "char_1 = \"Tyrion Lannister\"\n",
    "char_2 = \"Danaerys\"\n",
    "season_a = 3\n",
    "season_b = 8\n",
    "result_1 = True\n",
    "result_2 = 19 < 2 # Will output \"False\""
   ]
  },
  {
   "cell_type": "code",
   "execution_count": null,
   "id": "9d95be11",
   "metadata": {
    "scrolled": true
   },
   "outputs": [],
   "source": [
    "print(f\"{char_1} is the best character in Got, way cooler than {char_2}. It's {result_1} that season {season_a} was the best.\\nIf you think that season {season_b} was good, your conclusion is {result_2}\")"
   ]
  },
  {
   "cell_type": "code",
   "execution_count": null,
   "id": "178a5402",
   "metadata": {},
   "outputs": [],
   "source": [
    "# Save your name, favorite TV show, character name, season, and a boolean value to separate variables\n",
    "name = # Your name\n",
    "series = # Your favorite TV Series\n",
    "char = # Your favorite Character\n",
    "season = # Your favorite Season\n",
    "value = # Boolean Value"
   ]
  },
  {
   "cell_type": "code",
   "execution_count": null,
   "id": "0ecc752a",
   "metadata": {},
   "outputs": [],
   "source": [
    "# Fix this sentence with formatting to include all the right variables.\n",
    "print(\"Hello, my name is (your name) and my favorite TV series is (your show). My favorite character in the show is (your character) because they are awesome! I especially liked season (your season). Everything I just told you is (your boolean)\")"
   ]
  },
  {
   "cell_type": "markdown",
   "id": "1dde6060",
   "metadata": {},
   "source": [
    "### String Formatting Method\n",
    "\"format()\" is a string method that allows you to do string formatting with a slightly differrent syntax.\n",
    "\n",
    "With the format method, empty curly braces {} are placed inside the string and their content is defined as arguments in the format method as shown below:\n",
    "\n",
    "print(\"Hello, my first name is { } and my middle name is { }\".format(\"John\", \"Paul\"))\n",
    "\n",
    "You'll find this method commonly in python versions older than 3.6"
   ]
  },
  {
   "cell_type": "code",
   "execution_count": null,
   "id": "3a59ed6c",
   "metadata": {},
   "outputs": [],
   "source": [
    "# Write a simple string using the format method to insert variables\n",
    "print(\"Hello, my first name is {} and my middle name is {}\".format(\"John\", \"Paul\"))"
   ]
  },
  {
   "cell_type": "code",
   "execution_count": null,
   "id": "75eb88be",
   "metadata": {},
   "outputs": [],
   "source": [
    "# you can also use variables within your curly braces but they must be defined as arguments in the end\n",
    "\n",
    "first_name = \"John\"\n",
    "middle_name = \"Paul\"\n",
    "\n",
    "print(\"Hello, my first name is {name_1} and my middle name is {name_2}\".format(name_1=first_name, name_2=middle_name))"
   ]
  },
  {
   "cell_type": "code",
   "execution_count": null,
   "id": "89781234",
   "metadata": {},
   "outputs": [],
   "source": [
    "# Repeat this step, only using the .format() method\n",
    "print(\"Hello, my name is (your name) and my favorite TV series is (your show). My favorite character in the show is (your character) because they are awesome! I especially liked season (your season). Everything I just told you is (your boolean)\")"
   ]
  },
  {
   "cell_type": "markdown",
   "id": "d0ee19a0",
   "metadata": {},
   "source": [
    "### Old-school Format Operator\n",
    "\n",
    "This is a much more old-school method of formatting strings and is seldom used anymore. Still it's good to know it in case you come across code written this way.\n",
    "\n",
    "In this method, we use the formatting operator `%` together with a converstion operator (e.g.: `s`,`r`,`d`,`f`) to define how we want to interpret and convert data\n",
    "\n",
    "The two methods `%s` and `%r` convert any python object to a string using two separate methods: str() and repr(). Note that %r and repr() deliver the string representation of the object, including quotation marks and any escape characters."
   ]
  },
  {
   "cell_type": "code",
   "execution_count": null,
   "id": "469c8c45",
   "metadata": {},
   "outputs": [],
   "source": [
    "# Notice the differing outputs when we use %s vs %r\n",
    "print('He said his name was %s.' %'Ned')\n",
    "print('He said his name was %r.' %'Ned')"
   ]
  },
  {
   "cell_type": "code",
   "execution_count": null,
   "id": "9da2e173",
   "metadata": {},
   "outputs": [],
   "source": [
    "# As another example, \\t inserts a tab into a string.\n",
    "print('I once caught a fish %s.' %'this \\tbig')\n",
    "print('I once caught a fish %r.' %'this \\tbig')"
   ]
  },
  {
   "cell_type": "markdown",
   "id": "bc4db9e7",
   "metadata": {},
   "source": [
    "The %s operator converts whatever it sees into a string, including integers and floats. The %d operator converts numbers to integers first, without rounding. Note the difference below:"
   ]
  },
  {
   "cell_type": "code",
   "execution_count": null,
   "id": "23a091d8",
   "metadata": {},
   "outputs": [],
   "source": [
    "print('I watched %s episodes today.' %5.75)\n",
    "print('I watched %d episodes today.' %5.75)"
   ]
  },
  {
   "cell_type": "markdown",
   "id": "bb15471f",
   "metadata": {},
   "source": [
    "# Congratulations, String Master!\n",
    "## There will always be more to learn, but you've taken great strides. Keep practicing!"
   ]
  }
 ],
 "metadata": {
  "kernelspec": {
   "display_name": "Python 3 (ipykernel)",
   "language": "python",
   "name": "python3"
  },
  "language_info": {
   "codemirror_mode": {
    "name": "ipython",
    "version": 3
   },
   "file_extension": ".py",
   "mimetype": "text/x-python",
   "name": "python",
   "nbconvert_exporter": "python",
   "pygments_lexer": "ipython3",
   "version": "3.9.12"
  }
 },
 "nbformat": 4,
 "nbformat_minor": 5
}
