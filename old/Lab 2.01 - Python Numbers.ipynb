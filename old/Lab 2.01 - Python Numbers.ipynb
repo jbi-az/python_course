{
 "cells": [
  {
   "cell_type": "code",
   "execution_count": null,
   "id": "ffa2b4d3",
   "metadata": {},
   "outputs": [],
   "source": [
    "# Write your name in the print statement below:\n",
    "print(\"\")"
   ]
  },
  {
   "cell_type": "markdown",
   "id": "2055c3f5",
   "metadata": {},
   "source": [
    "# Numbers, Operators, and Math in Python\n",
    "\n",
    "Welcome to our first python code-along workbook\n",
    "\n",
    "This lab is designed to help familiarize us with python numbers and how they work.\n",
    "\n",
    "**Here is what we will be exploring:**\n",
    "\n",
    "1. Number types (floats and integers)\n",
    "2. Math operators and solving math problems\n",
    "3. Variable assignment and usage"
   ]
  },
  {
   "cell_type": "markdown",
   "id": "53641ecf",
   "metadata": {},
   "source": [
    "# Basic Math Solving\n",
    "\n",
    "Below are some simple examples of how to solve math problems using python. \n",
    "\n",
    "Your task is simple: Read the explainations, follow along with your teacher, run the code and examine the outputs.\n",
    "\n",
    "Feel free to add or alter cells to explore these concepts yourself!\n",
    "\n",
    "##### Notes:\n",
    "\n",
    "1. Using spaces - or not - does not affect the code, but may affect readability\n",
    "2. Numbers can be positive or negative. Use the \"-\" symbol to denote a negative number.\n",
    "3. Using the basic division operator will always result in a float.\n",
    "4. Adding, subtracting, or multiplying an integer by a float will always result in a float."
   ]
  },
  {
   "cell_type": "markdown",
   "id": "38faa612",
   "metadata": {},
   "source": [
    "### Addition\n",
    "Addition is accomplished simply by using the \"+\" operator. Values can be positive or negative."
   ]
  },
  {
   "cell_type": "code",
   "execution_count": null,
   "id": "7bdeabc1",
   "metadata": {},
   "outputs": [],
   "source": [
    "# Add two basic numbers together\n"
   ]
  },
  {
   "cell_type": "code",
   "execution_count": null,
   "id": "b2606e7b",
   "metadata": {},
   "outputs": [],
   "source": [
    "# Add 3 or more numbers (e.g. 5 + 9 + 2)\n"
   ]
  },
  {
   "cell_type": "code",
   "execution_count": null,
   "id": "7cce1a41",
   "metadata": {},
   "outputs": [],
   "source": [
    "# Add a negative number (e.g. -6) to a positive one\n"
   ]
  },
  {
   "cell_type": "code",
   "execution_count": null,
   "id": "ac1b651d",
   "metadata": {},
   "outputs": [],
   "source": [
    "# Add an Integer and a float. This will always output a float, even if the value after the decimal is zero\n"
   ]
  },
  {
   "cell_type": "markdown",
   "id": "a249c1d2",
   "metadata": {},
   "source": [
    "### Subtraction\n",
    "Subtraction operations use the \"-\" operator."
   ]
  },
  {
   "cell_type": "code",
   "execution_count": null,
   "id": "b3e5e6a9",
   "metadata": {},
   "outputs": [],
   "source": [
    "# Create a basic subtraction problem\n"
   ]
  },
  {
   "cell_type": "code",
   "execution_count": null,
   "id": "48d05b87",
   "metadata": {},
   "outputs": [],
   "source": [
    "# Subtract a negative number from a positive one\n"
   ]
  },
  {
   "cell_type": "code",
   "execution_count": null,
   "id": "71f39002",
   "metadata": {},
   "outputs": [],
   "source": [
    "# Subtract an integer from a float\n"
   ]
  },
  {
   "cell_type": "markdown",
   "id": "3c43c802",
   "metadata": {},
   "source": [
    "### Multiplication\n",
    "We use the \"*\" operator to solve multiplication problems"
   ]
  },
  {
   "cell_type": "code",
   "execution_count": null,
   "id": "f39828b4",
   "metadata": {},
   "outputs": [],
   "source": [
    "# Multiply 2 numbers together\n"
   ]
  },
  {
   "cell_type": "code",
   "execution_count": null,
   "id": "e1b6a4b5",
   "metadata": {},
   "outputs": [],
   "source": [
    "# Multiply a positive number and a negative one\n"
   ]
  },
  {
   "cell_type": "code",
   "execution_count": null,
   "id": "2780bbd1",
   "metadata": {},
   "outputs": [],
   "source": [
    "# Multiply an integer and a float. What data type is returned?\n"
   ]
  },
  {
   "cell_type": "markdown",
   "id": "bf1433b7",
   "metadata": {},
   "source": [
    "### Division\n",
    "Division problems are solved using the \"/\" operator"
   ]
  },
  {
   "cell_type": "code",
   "execution_count": null,
   "id": "431a08b2",
   "metadata": {},
   "outputs": [],
   "source": [
    "# Create a basic division problem using the '/' operator. Note how the output is always a float\n"
   ]
  },
  {
   "cell_type": "markdown",
   "id": "01b329cc",
   "metadata": {},
   "source": [
    "#### What's happening here!?"
   ]
  },
  {
   "cell_type": "code",
   "execution_count": null,
   "id": "5ab77300",
   "metadata": {},
   "outputs": [],
   "source": [
    "# Use double slash '//' to perform division. Run the cell below\n",
    "11 // 4"
   ]
  },
  {
   "cell_type": "markdown",
   "id": "30ac6031",
   "metadata": {},
   "source": [
    "**I thought 11 divided by 4 equals 2.75, not 2!**\n",
    "\n",
    "Here we are using \"floor division\". The \"//\" operator will perform a division operation but will cut the decimal point and won't round the number, returning to us an integer value."
   ]
  },
  {
   "cell_type": "markdown",
   "id": "89090147",
   "metadata": {},
   "source": [
    "### Modulo\n",
    "The \"Modulo\" Operator (%) can be a bit confusing. It is NOT used to calculate a percentage, but rather a REMAINDER after division.\n",
    "\n",
    "How does it work?\n",
    "\n",
    "Lets imagine we want to calculate the remainder of 10 / 4...\n",
    "4 goes into 10 twice, leaving a remainder of 2\n",
    "\n",
    "So if we input \"10 % 4\" into our code, our output will be \"2\""
   ]
  },
  {
   "cell_type": "code",
   "execution_count": null,
   "id": "119f37da",
   "metadata": {},
   "outputs": [],
   "source": [
    "# Use the modulo operator on 2 numbers. the FIRST number should be LARGER\n"
   ]
  },
  {
   "cell_type": "code",
   "execution_count": null,
   "id": "0b19568a",
   "metadata": {},
   "outputs": [],
   "source": [
    "# What happens if we run modulo on a smaller value against a larger one? We end up with the first value as a remainder.\n"
   ]
  },
  {
   "cell_type": "markdown",
   "id": "c7bb6a25",
   "metadata": {},
   "source": [
    "### Exponentiation\n",
    "\n",
    "To calculate an exponent (power), use a double '\\*' operator (*\\***). This can also help us to find square roots"
   ]
  },
  {
   "cell_type": "code",
   "execution_count": null,
   "id": "e622c155",
   "metadata": {},
   "outputs": [],
   "source": [
    "# calculate 4 to the power of 3\n"
   ]
  },
  {
   "cell_type": "code",
   "execution_count": null,
   "id": "34ce0194",
   "metadata": {},
   "outputs": [],
   "source": [
    "# 2 to the 256th power (The number of values in SHA256)\n"
   ]
  },
  {
   "cell_type": "code",
   "execution_count": null,
   "id": "f2a81c01",
   "metadata": {},
   "outputs": [],
   "source": [
    "# To find a number's square root, write 'number ** 0.5'\n",
    "# For example- to find the square root of 10, write: 10 ** 0.5. Try it on any number\n"
   ]
  },
  {
   "cell_type": "markdown",
   "id": "d4e61497",
   "metadata": {},
   "source": [
    "### Order of Operations\n",
    "Certain operators take precedence over others. What does that mean?\n",
    "\n",
    "When there are multiple operators strung together...\n",
    "E.g.:\n",
    "\"5 * 7 / 2 ** 6 - 3\n",
    "\n",
    "Python won't just read them from left to right. It will run them in order of precendence.\n",
    "\n",
    "**Here is the order of operator precedence from highest to lowest:**\n",
    "1. Parenthesis - ()\n",
    "2. Exponent - **\n",
    "3. Multiplication, Division, Modulo - *, / , %\n",
    "4. Addition, Subtraction- +, -\n",
    "5. Left to Right >>>"
   ]
  },
  {
   "cell_type": "code",
   "execution_count": null,
   "id": "53e6268e",
   "metadata": {},
   "outputs": [],
   "source": [
    "# Using Parenthesis is the best way to ensure that your code runs numbers in the desired order. \n",
    "#You can even use Parenthesis within Parenthesis\n",
    "((2 ** 5) + (7 // 4)) * ((4 * 6) - (61 - 57))"
   ]
  },
  {
   "cell_type": "markdown",
   "id": "9fb79616",
   "metadata": {},
   "source": [
    "### Variable Aassignment\n",
    "\n",
    "Now that we understand how numbers and mathematical operations work in Python, lets explore how to assign and work with variables!\n",
    "\n",
    "Remember the syntax:\n",
    "\n",
    "variable_name = value (example:  **a = 123**)"
   ]
  },
  {
   "cell_type": "code",
   "execution_count": null,
   "id": "8f7500f3",
   "metadata": {},
   "outputs": [],
   "source": [
    "# Lets create our first variable. assign any single-digit number (1-9) to the variable \"x\"\n"
   ]
  },
  {
   "cell_type": "markdown",
   "id": "5d476642",
   "metadata": {},
   "source": [
    "**NOTICE**\n",
    "Simply assigning a variable does NOT give an output. It only saves the value to RAM. \n",
    "\n",
    "To 'call' (use) your variable, simply write the saved variable and run the cell"
   ]
  },
  {
   "cell_type": "code",
   "execution_count": null,
   "id": "7a4d19b5",
   "metadata": {},
   "outputs": [],
   "source": [
    "# Call your 'x' variable\n"
   ]
  },
  {
   "cell_type": "code",
   "execution_count": null,
   "id": "31e770b7",
   "metadata": {},
   "outputs": [],
   "source": [
    "# Create another variable (y) and assign it another signle-digit number (1-9)\n"
   ]
  },
  {
   "cell_type": "markdown",
   "id": "903f9221",
   "metadata": {},
   "source": [
    "Python will now treat \"x\" and \"y\" as the numbers we assigned to them. Let's explore! Try using mathematical, operators on your variables. See if you can understand the outputs"
   ]
  },
  {
   "cell_type": "code",
   "execution_count": null,
   "id": "59599092",
   "metadata": {},
   "outputs": [],
   "source": [
    "# add x to y. Can you explain the output?\n"
   ]
  },
  {
   "cell_type": "code",
   "execution_count": null,
   "id": "02ef5549",
   "metadata": {},
   "outputs": [],
   "source": [
    "# subtract one variable from the other\n"
   ]
  },
  {
   "cell_type": "code",
   "execution_count": null,
   "id": "5f6903a7",
   "metadata": {},
   "outputs": [],
   "source": [
    "# x divided by y\n"
   ]
  },
  {
   "cell_type": "code",
   "execution_count": null,
   "id": "4fa85187",
   "metadata": {},
   "outputs": [],
   "source": [
    "# x divided by y, with floor division\n"
   ]
  },
  {
   "cell_type": "code",
   "execution_count": null,
   "id": "61a22be8",
   "metadata": {},
   "outputs": [],
   "source": [
    "# x raised to the power of y?\n"
   ]
  },
  {
   "cell_type": "code",
   "execution_count": null,
   "id": "551d0e0d",
   "metadata": {},
   "outputs": [],
   "source": [
    "# run a more complicated math problem, using each variable more than once. Try to predict the output\n",
    "(x + x) * (x - y)"
   ]
  },
  {
   "cell_type": "markdown",
   "id": "c20503c7",
   "metadata": {},
   "source": [
    "### Reassignment\n",
    "Does Python let us overwrite existing variables? Lets try it out"
   ]
  },
  {
   "cell_type": "code",
   "execution_count": null,
   "id": "ca365ba1",
   "metadata": {},
   "outputs": [],
   "source": [
    "# Assign a new value to your \"x\" variable\n",
    "x = "
   ]
  },
  {
   "cell_type": "code",
   "execution_count": null,
   "id": "d86f004a",
   "metadata": {},
   "outputs": [],
   "source": [
    "# Now, call x and check the output\n",
    "x"
   ]
  },
  {
   "cell_type": "markdown",
   "id": "b8ff6f4c",
   "metadata": {},
   "source": [
    "**Yes!** You can overwrite variables simply by assigning a new value. The old will be lost when you do this. \n",
    "\n",
    "**Python does not use constant values** - everything can be reassigned. This creates more flexibility in Python code but can also cause us to lose track of our variables or overwrite existing functions. Watch your assignments closely!\n",
    "\n",
    "Let's try something else..."
   ]
  },
  {
   "cell_type": "code",
   "execution_count": null,
   "id": "0e36e3d5",
   "metadata": {},
   "outputs": [],
   "source": [
    "# reassign x to x plus y (x = x + y), then call x and check the output. Can you explain why this happened?\n",
    "x = "
   ]
  },
  {
   "cell_type": "code",
   "execution_count": null,
   "id": "92809457",
   "metadata": {},
   "outputs": [],
   "source": [
    "# Create a variable called \"km\" (kilometers) and assign it any integer value with 4 digits\n"
   ]
  },
  {
   "cell_type": "code",
   "execution_count": null,
   "id": "44296c9b",
   "metadata": {},
   "outputs": [],
   "source": [
    "# Create another variable called \"kph\" (kilometers per hour) and assign it any integer value with 3 digits\n"
   ]
  },
  {
   "cell_type": "code",
   "execution_count": null,
   "id": "7b93295c",
   "metadata": {},
   "outputs": [],
   "source": [
    "# Create one last variable called \"hours\" and assign to it the value of 'km' divided by 'kph'.\n"
   ]
  },
  {
   "cell_type": "code",
   "execution_count": null,
   "id": "0f88702c",
   "metadata": {},
   "outputs": [],
   "source": [
    "# Check the value of your hours (simply write 'hours' and run it to see the output)\n"
   ]
  },
  {
   "cell_type": "markdown",
   "id": "514bc764",
   "metadata": {},
   "source": [
    "# Good Job!\n",
    "### You're well on your way to mastering numbers in Python"
   ]
  }
 ],
 "metadata": {
  "kernelspec": {
   "display_name": "Python 3 (ipykernel)",
   "language": "python",
   "name": "python3"
  },
  "language_info": {
   "codemirror_mode": {
    "name": "ipython",
    "version": 3
   },
   "file_extension": ".py",
   "mimetype": "text/x-python",
   "name": "python",
   "nbconvert_exporter": "python",
   "pygments_lexer": "ipython3",
   "version": "3.9.12"
  }
 },
 "nbformat": 4,
 "nbformat_minor": 5
}
