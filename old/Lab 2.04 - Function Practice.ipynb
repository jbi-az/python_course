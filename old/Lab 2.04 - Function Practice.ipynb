{
 "cells": [
  {
   "cell_type": "code",
   "execution_count": null,
   "id": "25da9e76",
   "metadata": {},
   "outputs": [],
   "source": [
    "# Print your name here:\n"
   ]
  },
  {
   "cell_type": "markdown",
   "id": "098e0a74",
   "metadata": {},
   "source": [
    "# Python Built-in Functions\n",
    "\n",
    "Python comes with a number of useful pre-built functions that help us automate tasks that could be complicated to code ourselves. In this lab we will look at some of the most commonly used and functions that are useful to the novice coder.\n",
    "\n",
    "**In this lab we will learn about:**\n",
    "\n",
    "1. Reveiw of previously-learned functions\n",
    "2. Casting data types with functions\n",
    "3. Taking and saving user inputs with functions\n",
    "4. Absolute Number function\n",
    "5. How to learn functions on the fly"
   ]
  },
  {
   "cell_type": "markdown",
   "id": "94824edf",
   "metadata": {},
   "source": [
    "## Familiar functions\n",
    "\n",
    "Remember these functions?:\n",
    "\n",
    "1. print()\n",
    "2. len()\n",
    "3. type()\n",
    "\n",
    "Let's quicky review:"
   ]
  },
  {
   "cell_type": "code",
   "execution_count": null,
   "id": "44a1a3b0",
   "metadata": {},
   "outputs": [],
   "source": [
    "#The print function allows us to output a text message in string format. Lets try it. \n",
    "# Create a variable with any text you like and print it.\n",
    "\n"
   ]
  },
  {
   "cell_type": "code",
   "execution_count": null,
   "id": "2939eea7",
   "metadata": {},
   "outputs": [],
   "source": [
    "# How many characters (including spaces, punctuation, and special characters etc) are in your string?\n",
    "# Do you remember how to count them with a Python function?\n"
   ]
  },
  {
   "cell_type": "code",
   "execution_count": null,
   "id": "4ed901e1",
   "metadata": {},
   "outputs": [],
   "source": [
    "# The \"type()\" function is used for tracking what data is contained in a variable. Check the type of your variable.\n"
   ]
  },
  {
   "cell_type": "markdown",
   "id": "51641f4d",
   "metadata": {},
   "source": [
    "## Casting\n",
    "There are several functions in python that allow us to specify or even convert data types. This is called \"Casting\".\n",
    "\n",
    "\"Casting\" is accomplished using these \"constructor\" functions:\n",
    "\n",
    "1. int()\n",
    "2. float()\n",
    "3. str()\n",
    "4. bool()"
   ]
  },
  {
   "cell_type": "markdown",
   "id": "6ea23a7a",
   "metadata": {},
   "source": [
    "### int()\n",
    "The \"int()\" function will construct an integer out of various data types.\n",
    "\n",
    "**For example:**\n",
    "\n",
    "x = int(5)     # x will be 5\n",
    "\n",
    "x = int(13.9)  # x will be 13\n",
    "\n",
    "x = int(\"256\") # x will be 256\n",
    "\n",
    "**Note:**\n",
    "Casting strings to integers will work ONLY if the specified string is a whole number"
   ]
  },
  {
   "cell_type": "code",
   "execution_count": null,
   "id": "e22d503a",
   "metadata": {},
   "outputs": [],
   "source": [
    "# Give it a try! Create 3 variables (an integer, float, and string) and cast them as integers\n"
   ]
  },
  {
   "cell_type": "code",
   "execution_count": null,
   "id": "22a74852",
   "metadata": {},
   "outputs": [],
   "source": [
    "# Run this code\n",
    "test = int(\"abc123\")"
   ]
  },
  {
   "cell_type": "markdown",
   "id": "825de875",
   "metadata": {},
   "source": [
    "The cell above resulted in a Error! Can you explain why? Try to fix it and run again"
   ]
  },
  {
   "cell_type": "code",
   "execution_count": null,
   "id": "9f027584",
   "metadata": {},
   "outputs": [],
   "source": [
    "# Check the type of any of your variables. Is the type 'int'?\n"
   ]
  },
  {
   "cell_type": "markdown",
   "id": "f656fcd0",
   "metadata": {},
   "source": [
    "### float()\n",
    "The \"float()\" function works much like the \"int\" function, except that it will result in a floating-point number and will add a decimal to an integer or numeric string value.\n",
    "\n",
    "**For example:**\n",
    "\n",
    "x = float(15)    # x will be 15.0\n",
    "\n",
    "x = float(1.1)   # x will be 1.1\n",
    "\n",
    "x = float(\"256\") # x will be 256.0\n",
    "\n",
    "x = float(\"2.5\") # x will be 2.5"
   ]
  },
  {
   "cell_type": "code",
   "execution_count": null,
   "id": "86be9dc6",
   "metadata": {},
   "outputs": [],
   "source": [
    "# Your turn! Create your own version of the above examples (use different variable names) and check the output.\n"
   ]
  },
  {
   "cell_type": "code",
   "execution_count": null,
   "id": "fde02e3f",
   "metadata": {},
   "outputs": [],
   "source": [
    "# Check the output of any of your variables\n"
   ]
  },
  {
   "cell_type": "code",
   "execution_count": null,
   "id": "e779f518",
   "metadata": {},
   "outputs": [],
   "source": [
    "# Check the Type of any of your variables\n"
   ]
  },
  {
   "cell_type": "markdown",
   "id": "bc442914",
   "metadata": {},
   "source": [
    "### str()\n",
    "the \"str()\" function is easy and straight-forward: \n",
    "\n",
    "Take a data type and convert it into a string.\n",
    "\n",
    "**For example:**\n",
    "\n",
    "x = str(15)    # x will be \"15\"\n",
    "\n",
    "x = str(\"s1\")  # x will be \"s1\"\n",
    "\n",
    "x = str(25.6)  # x will be \"25.6\"\n",
    "\n",
    "x = str(True)  # x will be \"True\"\n",
    "\n",
    "x = str(19 < 5 # x will be \"False\""
   ]
  },
  {
   "cell_type": "code",
   "execution_count": null,
   "id": "b56f1284",
   "metadata": {},
   "outputs": [],
   "source": [
    "# You know the drill! Time to get hands-on. Make 3 variables, casting a float, boolean, and integer with the \"str()\" function\n",
    "\n"
   ]
  },
  {
   "cell_type": "code",
   "execution_count": null,
   "id": "6381610a",
   "metadata": {},
   "outputs": [],
   "source": [
    "# Check the output of any of your variables\n"
   ]
  },
  {
   "cell_type": "code",
   "execution_count": null,
   "id": "a9f4b766",
   "metadata": {},
   "outputs": [],
   "source": [
    "# Check the Type of any of your variables\n"
   ]
  },
  {
   "cell_type": "markdown",
   "id": "0e4eba31",
   "metadata": {},
   "source": [
    "### bool()\n",
    "\n",
    "The \"bool()\" function takes a data type and converts it to a \"True\" or \"False\" Boolean value.\n",
    "\n",
    "It does this by determining if the value is empty or not.\n",
    "\n",
    "An empty string (\"\"), an integer value of zero (0), or a float value of  will result in a False output\n",
    "\n",
    "Any string with content, or any integer/float with a value (negative or positive), will result in a True output\n",
    "\n",
    "**For example:**\n",
    "\n",
    "x = bool(\"\")  # x will be False\n",
    "\n",
    "x = bool(\"0\") # x will be True\n",
    "\n",
    "x = bool(0)   # x will be False\n",
    "\n",
    "x = bool(-14) # x will be True\n",
    "\n",
    "x = bool(0.0) # x will be False\n",
    "\n",
    "x = bool(0.1) # x will be True"
   ]
  },
  {
   "cell_type": "code",
   "execution_count": null,
   "id": "8f27e8b1",
   "metadata": {},
   "outputs": [],
   "source": [
    "# Recreate at least 3 of the variables above using your own values and variable names\n"
   ]
  },
  {
   "cell_type": "code",
   "execution_count": null,
   "id": "5f2d0b72",
   "metadata": {},
   "outputs": [],
   "source": [
    "# Check the output of any of your variables\n"
   ]
  },
  {
   "cell_type": "code",
   "execution_count": null,
   "id": "3c869ff9",
   "metadata": {},
   "outputs": [],
   "source": [
    "# Check the Type of any of your variables\n"
   ]
  },
  {
   "cell_type": "markdown",
   "id": "84b03689",
   "metadata": {},
   "source": [
    "## User Input\n",
    "In coding, you will often want to take an input from the user and save it for future use. This is very useful for keeping our data flexible and dynamic as our code runs.\n",
    "\n",
    "The \"input()\" function gives us an easy tool for taking and storing inputs. Let's explore it..."
   ]
  },
  {
   "cell_type": "code",
   "execution_count": null,
   "id": "54284ddd",
   "metadata": {},
   "outputs": [],
   "source": [
    "# Using the basic \"input()\" function will output a specified message before accepting user input\n",
    "input(\"Hello user! What is your name? : \")"
   ]
  },
  {
   "cell_type": "markdown",
   "id": "f9aebea1",
   "metadata": {},
   "source": [
    "In the above example, we took the user input, but didn't do anything with it. It wouldn't have much impact on a program as it didn't print the input nor save it to a variable. This can be easily fixed."
   ]
  },
  {
   "cell_type": "code",
   "execution_count": null,
   "id": "30cb3f49",
   "metadata": {},
   "outputs": [],
   "source": [
    "# By using the \"print()\" function, we can print the user input to the interpreter\n",
    "print(input(\"Hello, user! What is your name? : \"))"
   ]
  },
  {
   "cell_type": "markdown",
   "id": "2eecf890",
   "metadata": {},
   "source": [
    "Notice how the output is not wrapped in quotes. This is because it was printed instead of read simply as an Output. Now let's save it to a variable..."
   ]
  },
  {
   "cell_type": "code",
   "execution_count": null,
   "id": "93880640",
   "metadata": {},
   "outputs": [],
   "source": [
    "# Save an input to a variable called \"text\"\n"
   ]
  },
  {
   "cell_type": "code",
   "execution_count": null,
   "id": "57bb1176",
   "metadata": {},
   "outputs": [],
   "source": [
    "# Check the type of your \"text\" variable\n"
   ]
  },
  {
   "cell_type": "markdown",
   "id": "72f5ff40",
   "metadata": {},
   "source": [
    "Note that all inputs are read as strings. You can change this using casting, but be careful for errors\n"
   ]
  },
  {
   "cell_type": "code",
   "execution_count": null,
   "id": "67e4f8bb",
   "metadata": {},
   "outputs": [],
   "source": [
    "# Create an input that asks for the user's age and save the age to a variable. Only use numbers as your answer - no letters\n"
   ]
  },
  {
   "cell_type": "code",
   "execution_count": null,
   "id": "ef19b3a7",
   "metadata": {},
   "outputs": [],
   "source": [
    "# Cast your variable as an integer (save the results)\n"
   ]
  },
  {
   "cell_type": "code",
   "execution_count": null,
   "id": "842ebf88",
   "metadata": {},
   "outputs": [],
   "source": [
    "# Check your variable's type\n"
   ]
  },
  {
   "cell_type": "markdown",
   "id": "b4629ed0",
   "metadata": {},
   "source": [
    "You can accomplish the same task with the following syntax:\n",
    "\n",
    "num_1 = int(input(\"what's your age?\": ))"
   ]
  },
  {
   "cell_type": "code",
   "execution_count": null,
   "id": "7c2280cb",
   "metadata": {},
   "outputs": [],
   "source": [
    "# Do the same as above, only now, cast an integer value directly to the input\n"
   ]
  },
  {
   "cell_type": "code",
   "execution_count": null,
   "id": "6b4a50b7",
   "metadata": {},
   "outputs": [],
   "source": [
    "# check the type of your variable\n"
   ]
  },
  {
   "cell_type": "markdown",
   "id": "09812ffd",
   "metadata": {},
   "source": [
    "## Absolute Numbers\n",
    "In math, an \"absolute number\" is, basically, a numbers distance from zero. In simple, practical terms, this will change a negative number to a positive number.\n",
    "\n",
    "This is done very easily using the \"abs()\" function."
   ]
  },
  {
   "cell_type": "code",
   "execution_count": null,
   "id": "45eab181",
   "metadata": {},
   "outputs": [],
   "source": [
    "x = -456\n",
    "abs(x)"
   ]
  },
  {
   "cell_type": "code",
   "execution_count": null,
   "id": "f80d839f",
   "metadata": {},
   "outputs": [],
   "source": [
    "y = -15.3\n",
    "abs(y)"
   ]
  },
  {
   "cell_type": "code",
   "execution_count": null,
   "id": "83b8e5b0",
   "metadata": {},
   "outputs": [],
   "source": [
    "# Ask for the absolute value of 50 - 70\n"
   ]
  },
  {
   "cell_type": "markdown",
   "id": "34515bd6",
   "metadata": {},
   "source": [
    "easy, right?"
   ]
  },
  {
   "cell_type": "markdown",
   "id": "1e68ff8c",
   "metadata": {},
   "source": [
    "## Learning new functions\n",
    "There are different ways in which you might learn a new built-in function.\n",
    "\n",
    "Often you will find ways to solve problems using google search, which may point you to a function that is designed for your task.\n",
    "\n",
    "Sometimes you'll want to explore a specific functions functionality.\n",
    "\n",
    "You can do this by reading the python documentation\n",
    "\n",
    "There are 2 useful commands to do this:\n",
    "\n",
    "1. help  - help(function_name)\n",
    "2. ?     - (e.g. function_name?)"
   ]
  },
  {
   "cell_type": "code",
   "execution_count": null,
   "id": "d85e50f2",
   "metadata": {},
   "outputs": [],
   "source": [
    "# lets look up the input documentation with the \"help()\" function\n",
    "help(input)"
   ]
  },
  {
   "cell_type": "code",
   "execution_count": null,
   "id": "a60c5395",
   "metadata": {},
   "outputs": [],
   "source": [
    "# Now, lets do the same with the \"?\" command\n"
   ]
  },
  {
   "cell_type": "markdown",
   "id": "c0187e64",
   "metadata": {},
   "source": [
    "# Well done! \n",
    "### You've taken your first steps towards mastering Python's built-in functions!"
   ]
  }
 ],
 "metadata": {
  "kernelspec": {
   "display_name": "Python 3 (ipykernel)",
   "language": "python",
   "name": "python3"
  },
  "language_info": {
   "codemirror_mode": {
    "name": "ipython",
    "version": 3
   },
   "file_extension": ".py",
   "mimetype": "text/x-python",
   "name": "python",
   "nbconvert_exporter": "python",
   "pygments_lexer": "ipython3",
   "version": "3.9.12"
  }
 },
 "nbformat": 4,
 "nbformat_minor": 5
}
